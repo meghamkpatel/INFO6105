{
  "cells": [
    {
      "cell_type": "markdown",
      "metadata": {
        "id": "view-in-github",
        "colab_type": "text"
      },
      "source": [
        "<a href=\"https://colab.research.google.com/github/meghamkpatel/INFO6105/blob/main/Assignment1/Zomato_EDA.ipynb\" target=\"_parent\"><img src=\"https://colab.research.google.com/assets/colab-badge.svg\" alt=\"Open In Colab\"/></a>"
      ]
    },
    {
      "cell_type": "markdown",
      "metadata": {
        "id": "5-ECbPT3ETKC"
      },
      "source": [
        "# Data Sci Eng Methods \n",
        "## Assignment 1 – Zomato_EDA\n",
        "\n",
        "*ML Data Cleaning and Feature Selection*\n"
      ]
    },
    {
      "cell_type": "markdown",
      "source": [
        "# Abstract\n",
        "\n",
        "Zomato is an Indian multinational restaurant aggregator and food delivery company. \n",
        "Zomato provides information, menus and user-reviews of restaurants as well as food delivery options from partner restaurants in select cities. \n",
        "This dataset is comprised of information of food restraunts in Banglaore working with Zomato.\n",
        "The aim of the Notebook is to check the quality of the data and determine which features are important. The notebook has used statistical methods like p-value, t-statistics and visualization techniques like histogram, Q-Q plot, scatter plot, box-plot of python's matplotlib and seaborn library to answer below questions about the dataset\n",
        "<br>•\tWhich independent variables are useful to predict a target (dependent variable)?\n",
        "<br>•\tWhich independent variables have missing data? How much\n",
        "<br>•\tDo the training and test sets have the same data?\n",
        "<br>•\tIn the predictor variables independent of all the other predictor variables?\n",
        "<br>•\tWhich predictor variables are the most important?\n",
        "<br>•\tDo the ranges of the predictor variables make sense?\n",
        "<br>•\tWhat are the distributions of the predictor variables?\n",
        "\n",
        "<br>The dataset contains inconsistant values and missing data so it will require cleaning up. The significance of the predictors is investigated and it appears that of the 16 independent variables,  9 are significant, these results can be used to further optimize the model for predicting the best restaurants depending on a customer's need.\n",
        "   \n"
      ],
      "metadata": {
        "id": "jda1bg4__iOs"
      }
    },
    {
      "cell_type": "markdown",
      "source": [
        "_________________________________________________________\n",
        "###Getting our data"
      ],
      "metadata": {
        "id": "wjW7DP_3FDtv"
      }
    },
    {
      "cell_type": "code",
      "execution_count": 1,
      "metadata": {
        "colab": {
          "base_uri": "https://localhost:8080/"
        },
        "id": "Wm-VFGRPETKM",
        "outputId": "f4a76244-c2cf-48b9-e887-e206e8e22c37"
      },
      "outputs": [
        {
          "output_type": "stream",
          "name": "stdout",
          "text": [
            "Looking in indexes: https://pypi.org/simple, https://us-python.pkg.dev/colab-wheels/public/simple/\n",
            "Collecting eli5\n",
            "  Downloading eli5-0.13.0.tar.gz (216 kB)\n",
            "\u001b[K     |████████████████████████████████| 216 kB 6.6 MB/s \n",
            "\u001b[?25hRequirement already satisfied: attrs>17.1.0 in /usr/local/lib/python3.7/dist-packages (from eli5) (22.1.0)\n",
            "Collecting jinja2>=3.0.0\n",
            "  Downloading Jinja2-3.1.2-py3-none-any.whl (133 kB)\n",
            "\u001b[K     |████████████████████████████████| 133 kB 43.0 MB/s \n",
            "\u001b[?25hRequirement already satisfied: numpy>=1.9.0 in /usr/local/lib/python3.7/dist-packages (from eli5) (1.21.6)\n",
            "Requirement already satisfied: scipy in /usr/local/lib/python3.7/dist-packages (from eli5) (1.7.3)\n",
            "Requirement already satisfied: six in /usr/local/lib/python3.7/dist-packages (from eli5) (1.15.0)\n",
            "Requirement already satisfied: scikit-learn>=0.20 in /usr/local/lib/python3.7/dist-packages (from eli5) (1.0.2)\n",
            "Requirement already satisfied: graphviz in /usr/local/lib/python3.7/dist-packages (from eli5) (0.10.1)\n",
            "Requirement already satisfied: tabulate>=0.7.7 in /usr/local/lib/python3.7/dist-packages (from eli5) (0.8.10)\n",
            "Requirement already satisfied: MarkupSafe>=2.0 in /usr/local/lib/python3.7/dist-packages (from jinja2>=3.0.0->eli5) (2.0.1)\n",
            "Requirement already satisfied: joblib>=0.11 in /usr/local/lib/python3.7/dist-packages (from scikit-learn>=0.20->eli5) (1.1.0)\n",
            "Requirement already satisfied: threadpoolctl>=2.0.0 in /usr/local/lib/python3.7/dist-packages (from scikit-learn>=0.20->eli5) (3.1.0)\n",
            "Building wheels for collected packages: eli5\n",
            "  Building wheel for eli5 (setup.py) ... \u001b[?25l\u001b[?25hdone\n",
            "  Created wheel for eli5: filename=eli5-0.13.0-py2.py3-none-any.whl size=107748 sha256=c4c8ef70e418c931dd74432f9ab74a51553df3f5c974ee6051a4d9740b94ae34\n",
            "  Stored in directory: /root/.cache/pip/wheels/cc/3c/96/3ead31a8e6c20fc0f1a707fde2e05d49a80b1b4b30096573be\n",
            "Successfully built eli5\n",
            "Installing collected packages: jinja2, eli5\n",
            "  Attempting uninstall: jinja2\n",
            "    Found existing installation: Jinja2 2.11.3\n",
            "    Uninstalling Jinja2-2.11.3:\n",
            "      Successfully uninstalled Jinja2-2.11.3\n",
            "\u001b[31mERROR: pip's dependency resolver does not currently take into account all the packages that are installed. This behaviour is the source of the following dependency conflicts.\n",
            "flask 1.1.4 requires Jinja2<3.0,>=2.10.1, but you have jinja2 3.1.2 which is incompatible.\u001b[0m\n",
            "Successfully installed eli5-0.13.0 jinja2-3.1.2\n"
          ]
        }
      ],
      "source": [
        "#installing dependencies\n",
        "!pip install eli5\n",
        "! pip install -q kaggle\n"
      ]
    },
    {
      "cell_type": "code",
      "execution_count": 2,
      "metadata": {
        "id": "OYW5OWowETKO",
        "scrolled": true,
        "colab": {
          "base_uri": "https://localhost:8080/",
          "height": 74
        },
        "outputId": "00d90f72-3d9f-4ef5-ee32-08fe63360858"
      },
      "outputs": [
        {
          "output_type": "display_data",
          "data": {
            "text/plain": [
              "<IPython.core.display.HTML object>"
            ],
            "text/html": [
              "\n",
              "     <input type=\"file\" id=\"files-71326dc7-54f9-4600-b70a-c4ad62a9fcf6\" name=\"files[]\" multiple disabled\n",
              "        style=\"border:none\" />\n",
              "     <output id=\"result-71326dc7-54f9-4600-b70a-c4ad62a9fcf6\">\n",
              "      Upload widget is only available when the cell has been executed in the\n",
              "      current browser session. Please rerun this cell to enable.\n",
              "      </output>\n",
              "      <script>// Copyright 2017 Google LLC\n",
              "//\n",
              "// Licensed under the Apache License, Version 2.0 (the \"License\");\n",
              "// you may not use this file except in compliance with the License.\n",
              "// You may obtain a copy of the License at\n",
              "//\n",
              "//      http://www.apache.org/licenses/LICENSE-2.0\n",
              "//\n",
              "// Unless required by applicable law or agreed to in writing, software\n",
              "// distributed under the License is distributed on an \"AS IS\" BASIS,\n",
              "// WITHOUT WARRANTIES OR CONDITIONS OF ANY KIND, either express or implied.\n",
              "// See the License for the specific language governing permissions and\n",
              "// limitations under the License.\n",
              "\n",
              "/**\n",
              " * @fileoverview Helpers for google.colab Python module.\n",
              " */\n",
              "(function(scope) {\n",
              "function span(text, styleAttributes = {}) {\n",
              "  const element = document.createElement('span');\n",
              "  element.textContent = text;\n",
              "  for (const key of Object.keys(styleAttributes)) {\n",
              "    element.style[key] = styleAttributes[key];\n",
              "  }\n",
              "  return element;\n",
              "}\n",
              "\n",
              "// Max number of bytes which will be uploaded at a time.\n",
              "const MAX_PAYLOAD_SIZE = 100 * 1024;\n",
              "\n",
              "function _uploadFiles(inputId, outputId) {\n",
              "  const steps = uploadFilesStep(inputId, outputId);\n",
              "  const outputElement = document.getElementById(outputId);\n",
              "  // Cache steps on the outputElement to make it available for the next call\n",
              "  // to uploadFilesContinue from Python.\n",
              "  outputElement.steps = steps;\n",
              "\n",
              "  return _uploadFilesContinue(outputId);\n",
              "}\n",
              "\n",
              "// This is roughly an async generator (not supported in the browser yet),\n",
              "// where there are multiple asynchronous steps and the Python side is going\n",
              "// to poll for completion of each step.\n",
              "// This uses a Promise to block the python side on completion of each step,\n",
              "// then passes the result of the previous step as the input to the next step.\n",
              "function _uploadFilesContinue(outputId) {\n",
              "  const outputElement = document.getElementById(outputId);\n",
              "  const steps = outputElement.steps;\n",
              "\n",
              "  const next = steps.next(outputElement.lastPromiseValue);\n",
              "  return Promise.resolve(next.value.promise).then((value) => {\n",
              "    // Cache the last promise value to make it available to the next\n",
              "    // step of the generator.\n",
              "    outputElement.lastPromiseValue = value;\n",
              "    return next.value.response;\n",
              "  });\n",
              "}\n",
              "\n",
              "/**\n",
              " * Generator function which is called between each async step of the upload\n",
              " * process.\n",
              " * @param {string} inputId Element ID of the input file picker element.\n",
              " * @param {string} outputId Element ID of the output display.\n",
              " * @return {!Iterable<!Object>} Iterable of next steps.\n",
              " */\n",
              "function* uploadFilesStep(inputId, outputId) {\n",
              "  const inputElement = document.getElementById(inputId);\n",
              "  inputElement.disabled = false;\n",
              "\n",
              "  const outputElement = document.getElementById(outputId);\n",
              "  outputElement.innerHTML = '';\n",
              "\n",
              "  const pickedPromise = new Promise((resolve) => {\n",
              "    inputElement.addEventListener('change', (e) => {\n",
              "      resolve(e.target.files);\n",
              "    });\n",
              "  });\n",
              "\n",
              "  const cancel = document.createElement('button');\n",
              "  inputElement.parentElement.appendChild(cancel);\n",
              "  cancel.textContent = 'Cancel upload';\n",
              "  const cancelPromise = new Promise((resolve) => {\n",
              "    cancel.onclick = () => {\n",
              "      resolve(null);\n",
              "    };\n",
              "  });\n",
              "\n",
              "  // Wait for the user to pick the files.\n",
              "  const files = yield {\n",
              "    promise: Promise.race([pickedPromise, cancelPromise]),\n",
              "    response: {\n",
              "      action: 'starting',\n",
              "    }\n",
              "  };\n",
              "\n",
              "  cancel.remove();\n",
              "\n",
              "  // Disable the input element since further picks are not allowed.\n",
              "  inputElement.disabled = true;\n",
              "\n",
              "  if (!files) {\n",
              "    return {\n",
              "      response: {\n",
              "        action: 'complete',\n",
              "      }\n",
              "    };\n",
              "  }\n",
              "\n",
              "  for (const file of files) {\n",
              "    const li = document.createElement('li');\n",
              "    li.append(span(file.name, {fontWeight: 'bold'}));\n",
              "    li.append(span(\n",
              "        `(${file.type || 'n/a'}) - ${file.size} bytes, ` +\n",
              "        `last modified: ${\n",
              "            file.lastModifiedDate ? file.lastModifiedDate.toLocaleDateString() :\n",
              "                                    'n/a'} - `));\n",
              "    const percent = span('0% done');\n",
              "    li.appendChild(percent);\n",
              "\n",
              "    outputElement.appendChild(li);\n",
              "\n",
              "    const fileDataPromise = new Promise((resolve) => {\n",
              "      const reader = new FileReader();\n",
              "      reader.onload = (e) => {\n",
              "        resolve(e.target.result);\n",
              "      };\n",
              "      reader.readAsArrayBuffer(file);\n",
              "    });\n",
              "    // Wait for the data to be ready.\n",
              "    let fileData = yield {\n",
              "      promise: fileDataPromise,\n",
              "      response: {\n",
              "        action: 'continue',\n",
              "      }\n",
              "    };\n",
              "\n",
              "    // Use a chunked sending to avoid message size limits. See b/62115660.\n",
              "    let position = 0;\n",
              "    do {\n",
              "      const length = Math.min(fileData.byteLength - position, MAX_PAYLOAD_SIZE);\n",
              "      const chunk = new Uint8Array(fileData, position, length);\n",
              "      position += length;\n",
              "\n",
              "      const base64 = btoa(String.fromCharCode.apply(null, chunk));\n",
              "      yield {\n",
              "        response: {\n",
              "          action: 'append',\n",
              "          file: file.name,\n",
              "          data: base64,\n",
              "        },\n",
              "      };\n",
              "\n",
              "      let percentDone = fileData.byteLength === 0 ?\n",
              "          100 :\n",
              "          Math.round((position / fileData.byteLength) * 100);\n",
              "      percent.textContent = `${percentDone}% done`;\n",
              "\n",
              "    } while (position < fileData.byteLength);\n",
              "  }\n",
              "\n",
              "  // All done.\n",
              "  yield {\n",
              "    response: {\n",
              "      action: 'complete',\n",
              "    }\n",
              "  };\n",
              "}\n",
              "\n",
              "scope.google = scope.google || {};\n",
              "scope.google.colab = scope.google.colab || {};\n",
              "scope.google.colab._files = {\n",
              "  _uploadFiles,\n",
              "  _uploadFilesContinue,\n",
              "};\n",
              "})(self);\n",
              "</script> "
            ]
          },
          "metadata": {}
        },
        {
          "output_type": "stream",
          "name": "stdout",
          "text": [
            "Saving kaggle.json to kaggle.json\n"
          ]
        }
      ],
      "source": [
        "#making a directory for kaggle api\n",
        "from google.colab import files\n",
        "files.upload()\n",
        "! mkdir ~/.kaggle\n",
        "! cp kaggle.json ~/.kaggle/\n",
        "! chmod 600 ~/.kaggle/kaggle.json\n",
        "\n",
        "import numpy as np\n",
        "import pandas as pd\n",
        "import seaborn as sns\n",
        "import matplotlib.pylab as plt\n",
        "from matplotlib import pyplot"
      ]
    },
    {
      "cell_type": "code",
      "execution_count": 3,
      "metadata": {
        "colab": {
          "base_uri": "https://localhost:8080/"
        },
        "id": "Y8xyOOaIETKP",
        "outputId": "d6e85555-1f96-4cb2-9118-58a0ffdf72cb"
      },
      "outputs": [
        {
          "output_type": "stream",
          "name": "stdout",
          "text": [
            "ref                                                          title                                               size  lastUpdated          downloadCount  voteCount  usabilityRating  \n",
            "-----------------------------------------------------------  -------------------------------------------------  -----  -------------------  -------------  ---------  ---------------  \n",
            "himanshupoddar/zomato-bangalore-restaurants                  Zomato Bangalore Restaurants                        89MB  2019-03-31 09:48:43          45021       1149  1.0              \n",
            "shrutimehta/zomato-restaurants-data                          Zomato Restaurants Data                              5MB  2018-03-13 04:56:25          43594        610  0.7941176        \n",
            "batjoker/zomato-restaurants-hyderabad                        Zomato Restaurants Hyderabad                         1MB  2020-06-08 15:11:39           3058         62  1.0              \n",
            "phiitm/chennai-zomato-restaurants-data                       Chennai Zomato Restaurants Data                    672KB  2020-05-27 13:06:02           1424         36  1.0              \n",
            "deewakarchakraborty/zomato-restaurant-dataset                Zomato Restaurant Dataset                           18KB  2022-06-22 10:05:30           1044         30  1.0              \n",
            "absin7/zomato-bangalore-dataset                              Zomato Bangalore Dataset                            89MB  2020-10-17 19:59:31           1650         21  0.8235294        \n",
            "pranavuikey/zomato-eda                                       Zomato_EDA                                          89MB  2022-09-02 08:34:48            441         24  1.0              \n",
            "rabhar/zomato-restaurants-in-india                           zomato_restaurants_in_india                         17MB  2019-08-04 17:28:48           2050         35  0.7058824        \n",
            "vora1011/zomato-bangalore-restaurants-2022                   Zomato Bangalore Restaurants 2022                  702KB  2022-03-26 13:07:54            640         29  1.0              \n",
            "aestheteaman01/zomato-restaurants-in-delhi-ncr               Zomato Restaurants in Delhi NCR                    223KB  2021-08-30 18:17:58            618         34  1.0              \n",
            "pritsheta/surat-restaurants-zomato                           Zomato Restaurants Reviews                         269KB  2022-06-06 10:59:31            362         26  0.875            \n",
            "sagara9595/zomato-pune                                       Zomato_Pune                                          1MB  2019-12-19 12:07:30            718         22  0.9705882        \n",
            "ronidas39/zomato-india-data-set                              ZOMATO INDIA DATA SET                               16MB  2019-04-30 09:19:18           3718         38  0.5294118        \n",
            "akashram/zomato-restaurants-autoupdated-dataset              Zomato Restaurants - Autoupdated dataset             2MB  2019-04-10 07:47:52            397         11  0.7058824        \n",
            "vijayvvenkitesh/zomato-restaurant-info-bengaluru             Zomato Restaurant Info (Bengaluru)                   2KB  2021-06-19 08:25:08            153         13  1.0              \n",
            "aestheteaman01/zomato-restaurant-caf-dataset-pune-bangalore  Zomato Restaurants in Metropolitan Areas of India  791KB  2021-08-30 19:10:34            710         40  1.0              \n",
            "vora1011/zomato-kolkata-restaurants-2022                     Zomato Kolkata Restaurants 2022                    375KB  2022-03-22 17:01:29            120          9  1.0              \n",
            "cbhavik/swiggyzomato-order-information                       Swiggy/Zomato Order Information                     17MB  2022-09-17 13:47:07            480         30  0.9117647        \n",
            "ritikverma19/zomato-kolkata-dataset                          Zomato Kolkata Dataset                             252KB  2020-04-10 17:44:45            244          4  1.0              \n",
            "rohanambad/zomato-ratings                                    zomato ratings                                       2MB  2022-08-30 15:01:08              7         22  0.3125           \n",
            "Downloading zomato-eda.zip to /content\n",
            " 91% 81.0M/89.0M [00:01<00:00, 67.0MB/s]\n",
            "100% 89.0M/89.0M [00:01<00:00, 74.2MB/s]\n",
            "Archive:  zomato-eda.zip\n",
            "  inflating: zomato.csv              \n"
          ]
        }
      ],
      "source": [
        "#downloading and reading the zomato dataset\n",
        "! kaggle datasets list -s zomato\n",
        "! kaggle datasets download -d pranavuikey/zomato-eda\n",
        "!unzip zomato-eda.zip\n",
        "data = pd.read_csv(\"zomato.csv\")"
      ]
    },
    {
      "cell_type": "code",
      "execution_count": 4,
      "metadata": {
        "id": "AMYIkFi6ETKP",
        "colab": {
          "base_uri": "https://localhost:8080/",
          "height": 652
        },
        "outputId": "4edd7da6-568b-4bc6-c5c5-aee9590ed223"
      },
      "outputs": [
        {
          "output_type": "execute_result",
          "data": {
            "text/plain": [
              "                                                 url  \\\n",
              "0  https://www.zomato.com/bangalore/jalsa-banasha...   \n",
              "1  https://www.zomato.com/bangalore/spice-elephan...   \n",
              "2  https://www.zomato.com/SanchurroBangalore?cont...   \n",
              "3  https://www.zomato.com/bangalore/addhuri-udupi...   \n",
              "4  https://www.zomato.com/bangalore/grand-village...   \n",
              "\n",
              "                                             address                   name  \\\n",
              "0  942, 21st Main Road, 2nd Stage, Banashankari, ...                  Jalsa   \n",
              "1  2nd Floor, 80 Feet Road, Near Big Bazaar, 6th ...         Spice Elephant   \n",
              "2  1112, Next to KIMS Medical College, 17th Cross...        San Churro Cafe   \n",
              "3  1st Floor, Annakuteera, 3rd Stage, Banashankar...  Addhuri Udupi Bhojana   \n",
              "4  10, 3rd Floor, Lakshmi Associates, Gandhi Baza...          Grand Village   \n",
              "\n",
              "  online_order book_table   rate  votes                             phone  \\\n",
              "0          Yes        Yes  4.1/5    775    080 42297555\\r\\n+91 9743772233   \n",
              "1          Yes         No  4.1/5    787                      080 41714161   \n",
              "2          Yes         No  3.8/5    918                    +91 9663487993   \n",
              "3           No         No  3.7/5     88                    +91 9620009302   \n",
              "4           No         No  3.8/5    166  +91 8026612447\\r\\n+91 9901210005   \n",
              "\n",
              "       location            rest_type  \\\n",
              "0  Banashankari        Casual Dining   \n",
              "1  Banashankari        Casual Dining   \n",
              "2  Banashankari  Cafe, Casual Dining   \n",
              "3  Banashankari          Quick Bites   \n",
              "4  Basavanagudi        Casual Dining   \n",
              "\n",
              "                                          dish_liked  \\\n",
              "0  Pasta, Lunch Buffet, Masala Papad, Paneer Laja...   \n",
              "1  Momos, Lunch Buffet, Chocolate Nirvana, Thai G...   \n",
              "2  Churros, Cannelloni, Minestrone Soup, Hot Choc...   \n",
              "3                                        Masala Dosa   \n",
              "4                                Panipuri, Gol Gappe   \n",
              "\n",
              "                         cuisines approx_cost(for two people)  \\\n",
              "0  North Indian, Mughlai, Chinese                         800   \n",
              "1     Chinese, North Indian, Thai                         800   \n",
              "2          Cafe, Mexican, Italian                         800   \n",
              "3      South Indian, North Indian                         300   \n",
              "4        North Indian, Rajasthani                         600   \n",
              "\n",
              "                                        reviews_list menu_item  \\\n",
              "0  [('Rated 4.0', 'RATED\\n  A beautiful place to ...        []   \n",
              "1  [('Rated 4.0', 'RATED\\n  Had been here for din...        []   \n",
              "2  [('Rated 3.0', \"RATED\\n  Ambience is not that ...        []   \n",
              "3  [('Rated 4.0', \"RATED\\n  Great food and proper...        []   \n",
              "4  [('Rated 4.0', 'RATED\\n  Very good restaurant ...        []   \n",
              "\n",
              "  listed_in(type) listed_in(city)  \n",
              "0          Buffet    Banashankari  \n",
              "1          Buffet    Banashankari  \n",
              "2          Buffet    Banashankari  \n",
              "3          Buffet    Banashankari  \n",
              "4          Buffet    Banashankari  "
            ],
            "text/html": [
              "\n",
              "  <div id=\"df-187b317f-2a39-4046-94bb-cfc81b63021f\">\n",
              "    <div class=\"colab-df-container\">\n",
              "      <div>\n",
              "<style scoped>\n",
              "    .dataframe tbody tr th:only-of-type {\n",
              "        vertical-align: middle;\n",
              "    }\n",
              "\n",
              "    .dataframe tbody tr th {\n",
              "        vertical-align: top;\n",
              "    }\n",
              "\n",
              "    .dataframe thead th {\n",
              "        text-align: right;\n",
              "    }\n",
              "</style>\n",
              "<table border=\"1\" class=\"dataframe\">\n",
              "  <thead>\n",
              "    <tr style=\"text-align: right;\">\n",
              "      <th></th>\n",
              "      <th>url</th>\n",
              "      <th>address</th>\n",
              "      <th>name</th>\n",
              "      <th>online_order</th>\n",
              "      <th>book_table</th>\n",
              "      <th>rate</th>\n",
              "      <th>votes</th>\n",
              "      <th>phone</th>\n",
              "      <th>location</th>\n",
              "      <th>rest_type</th>\n",
              "      <th>dish_liked</th>\n",
              "      <th>cuisines</th>\n",
              "      <th>approx_cost(for two people)</th>\n",
              "      <th>reviews_list</th>\n",
              "      <th>menu_item</th>\n",
              "      <th>listed_in(type)</th>\n",
              "      <th>listed_in(city)</th>\n",
              "    </tr>\n",
              "  </thead>\n",
              "  <tbody>\n",
              "    <tr>\n",
              "      <th>0</th>\n",
              "      <td>https://www.zomato.com/bangalore/jalsa-banasha...</td>\n",
              "      <td>942, 21st Main Road, 2nd Stage, Banashankari, ...</td>\n",
              "      <td>Jalsa</td>\n",
              "      <td>Yes</td>\n",
              "      <td>Yes</td>\n",
              "      <td>4.1/5</td>\n",
              "      <td>775</td>\n",
              "      <td>080 42297555\\r\\n+91 9743772233</td>\n",
              "      <td>Banashankari</td>\n",
              "      <td>Casual Dining</td>\n",
              "      <td>Pasta, Lunch Buffet, Masala Papad, Paneer Laja...</td>\n",
              "      <td>North Indian, Mughlai, Chinese</td>\n",
              "      <td>800</td>\n",
              "      <td>[('Rated 4.0', 'RATED\\n  A beautiful place to ...</td>\n",
              "      <td>[]</td>\n",
              "      <td>Buffet</td>\n",
              "      <td>Banashankari</td>\n",
              "    </tr>\n",
              "    <tr>\n",
              "      <th>1</th>\n",
              "      <td>https://www.zomato.com/bangalore/spice-elephan...</td>\n",
              "      <td>2nd Floor, 80 Feet Road, Near Big Bazaar, 6th ...</td>\n",
              "      <td>Spice Elephant</td>\n",
              "      <td>Yes</td>\n",
              "      <td>No</td>\n",
              "      <td>4.1/5</td>\n",
              "      <td>787</td>\n",
              "      <td>080 41714161</td>\n",
              "      <td>Banashankari</td>\n",
              "      <td>Casual Dining</td>\n",
              "      <td>Momos, Lunch Buffet, Chocolate Nirvana, Thai G...</td>\n",
              "      <td>Chinese, North Indian, Thai</td>\n",
              "      <td>800</td>\n",
              "      <td>[('Rated 4.0', 'RATED\\n  Had been here for din...</td>\n",
              "      <td>[]</td>\n",
              "      <td>Buffet</td>\n",
              "      <td>Banashankari</td>\n",
              "    </tr>\n",
              "    <tr>\n",
              "      <th>2</th>\n",
              "      <td>https://www.zomato.com/SanchurroBangalore?cont...</td>\n",
              "      <td>1112, Next to KIMS Medical College, 17th Cross...</td>\n",
              "      <td>San Churro Cafe</td>\n",
              "      <td>Yes</td>\n",
              "      <td>No</td>\n",
              "      <td>3.8/5</td>\n",
              "      <td>918</td>\n",
              "      <td>+91 9663487993</td>\n",
              "      <td>Banashankari</td>\n",
              "      <td>Cafe, Casual Dining</td>\n",
              "      <td>Churros, Cannelloni, Minestrone Soup, Hot Choc...</td>\n",
              "      <td>Cafe, Mexican, Italian</td>\n",
              "      <td>800</td>\n",
              "      <td>[('Rated 3.0', \"RATED\\n  Ambience is not that ...</td>\n",
              "      <td>[]</td>\n",
              "      <td>Buffet</td>\n",
              "      <td>Banashankari</td>\n",
              "    </tr>\n",
              "    <tr>\n",
              "      <th>3</th>\n",
              "      <td>https://www.zomato.com/bangalore/addhuri-udupi...</td>\n",
              "      <td>1st Floor, Annakuteera, 3rd Stage, Banashankar...</td>\n",
              "      <td>Addhuri Udupi Bhojana</td>\n",
              "      <td>No</td>\n",
              "      <td>No</td>\n",
              "      <td>3.7/5</td>\n",
              "      <td>88</td>\n",
              "      <td>+91 9620009302</td>\n",
              "      <td>Banashankari</td>\n",
              "      <td>Quick Bites</td>\n",
              "      <td>Masala Dosa</td>\n",
              "      <td>South Indian, North Indian</td>\n",
              "      <td>300</td>\n",
              "      <td>[('Rated 4.0', \"RATED\\n  Great food and proper...</td>\n",
              "      <td>[]</td>\n",
              "      <td>Buffet</td>\n",
              "      <td>Banashankari</td>\n",
              "    </tr>\n",
              "    <tr>\n",
              "      <th>4</th>\n",
              "      <td>https://www.zomato.com/bangalore/grand-village...</td>\n",
              "      <td>10, 3rd Floor, Lakshmi Associates, Gandhi Baza...</td>\n",
              "      <td>Grand Village</td>\n",
              "      <td>No</td>\n",
              "      <td>No</td>\n",
              "      <td>3.8/5</td>\n",
              "      <td>166</td>\n",
              "      <td>+91 8026612447\\r\\n+91 9901210005</td>\n",
              "      <td>Basavanagudi</td>\n",
              "      <td>Casual Dining</td>\n",
              "      <td>Panipuri, Gol Gappe</td>\n",
              "      <td>North Indian, Rajasthani</td>\n",
              "      <td>600</td>\n",
              "      <td>[('Rated 4.0', 'RATED\\n  Very good restaurant ...</td>\n",
              "      <td>[]</td>\n",
              "      <td>Buffet</td>\n",
              "      <td>Banashankari</td>\n",
              "    </tr>\n",
              "  </tbody>\n",
              "</table>\n",
              "</div>\n",
              "      <button class=\"colab-df-convert\" onclick=\"convertToInteractive('df-187b317f-2a39-4046-94bb-cfc81b63021f')\"\n",
              "              title=\"Convert this dataframe to an interactive table.\"\n",
              "              style=\"display:none;\">\n",
              "        \n",
              "  <svg xmlns=\"http://www.w3.org/2000/svg\" height=\"24px\"viewBox=\"0 0 24 24\"\n",
              "       width=\"24px\">\n",
              "    <path d=\"M0 0h24v24H0V0z\" fill=\"none\"/>\n",
              "    <path d=\"M18.56 5.44l.94 2.06.94-2.06 2.06-.94-2.06-.94-.94-2.06-.94 2.06-2.06.94zm-11 1L8.5 8.5l.94-2.06 2.06-.94-2.06-.94L8.5 2.5l-.94 2.06-2.06.94zm10 10l.94 2.06.94-2.06 2.06-.94-2.06-.94-.94-2.06-.94 2.06-2.06.94z\"/><path d=\"M17.41 7.96l-1.37-1.37c-.4-.4-.92-.59-1.43-.59-.52 0-1.04.2-1.43.59L10.3 9.45l-7.72 7.72c-.78.78-.78 2.05 0 2.83L4 21.41c.39.39.9.59 1.41.59.51 0 1.02-.2 1.41-.59l7.78-7.78 2.81-2.81c.8-.78.8-2.07 0-2.86zM5.41 20L4 18.59l7.72-7.72 1.47 1.35L5.41 20z\"/>\n",
              "  </svg>\n",
              "      </button>\n",
              "      \n",
              "  <style>\n",
              "    .colab-df-container {\n",
              "      display:flex;\n",
              "      flex-wrap:wrap;\n",
              "      gap: 12px;\n",
              "    }\n",
              "\n",
              "    .colab-df-convert {\n",
              "      background-color: #E8F0FE;\n",
              "      border: none;\n",
              "      border-radius: 50%;\n",
              "      cursor: pointer;\n",
              "      display: none;\n",
              "      fill: #1967D2;\n",
              "      height: 32px;\n",
              "      padding: 0 0 0 0;\n",
              "      width: 32px;\n",
              "    }\n",
              "\n",
              "    .colab-df-convert:hover {\n",
              "      background-color: #E2EBFA;\n",
              "      box-shadow: 0px 1px 2px rgba(60, 64, 67, 0.3), 0px 1px 3px 1px rgba(60, 64, 67, 0.15);\n",
              "      fill: #174EA6;\n",
              "    }\n",
              "\n",
              "    [theme=dark] .colab-df-convert {\n",
              "      background-color: #3B4455;\n",
              "      fill: #D2E3FC;\n",
              "    }\n",
              "\n",
              "    [theme=dark] .colab-df-convert:hover {\n",
              "      background-color: #434B5C;\n",
              "      box-shadow: 0px 1px 3px 1px rgba(0, 0, 0, 0.15);\n",
              "      filter: drop-shadow(0px 1px 2px rgba(0, 0, 0, 0.3));\n",
              "      fill: #FFFFFF;\n",
              "    }\n",
              "  </style>\n",
              "\n",
              "      <script>\n",
              "        const buttonEl =\n",
              "          document.querySelector('#df-187b317f-2a39-4046-94bb-cfc81b63021f button.colab-df-convert');\n",
              "        buttonEl.style.display =\n",
              "          google.colab.kernel.accessAllowed ? 'block' : 'none';\n",
              "\n",
              "        async function convertToInteractive(key) {\n",
              "          const element = document.querySelector('#df-187b317f-2a39-4046-94bb-cfc81b63021f');\n",
              "          const dataTable =\n",
              "            await google.colab.kernel.invokeFunction('convertToInteractive',\n",
              "                                                     [key], {});\n",
              "          if (!dataTable) return;\n",
              "\n",
              "          const docLinkHtml = 'Like what you see? Visit the ' +\n",
              "            '<a target=\"_blank\" href=https://colab.research.google.com/notebooks/data_table.ipynb>data table notebook</a>'\n",
              "            + ' to learn more about interactive tables.';\n",
              "          element.innerHTML = '';\n",
              "          dataTable['output_type'] = 'display_data';\n",
              "          await google.colab.output.renderOutput(dataTable, element);\n",
              "          const docLink = document.createElement('div');\n",
              "          docLink.innerHTML = docLinkHtml;\n",
              "          element.appendChild(docLink);\n",
              "        }\n",
              "      </script>\n",
              "    </div>\n",
              "  </div>\n",
              "  "
            ]
          },
          "metadata": {},
          "execution_count": 4
        }
      ],
      "source": [
        "#Viewing data in the file \n",
        "data.shape\n",
        "data.head()"
      ]
    },
    {
      "cell_type": "markdown",
      "metadata": {
        "id": "kgIQwVIXETKL"
      },
      "source": [
        "**What are the data types? (Only numeric and categorical)**\n",
        "\n",
        "# Data Set\n",
        "The data set consists of :\n",
        "1. Types: categorical\n",
        "2. Rating - numeric (The dependent variable)\n",
        "3. Votes - numeric\n",
        "4. Online order - categorical\n",
        "6. Book table - categorical\n",
        "7. Location - categorical\n",
        "8. Restaurant type -categorical\n",
        "9. Cuisines - categorical\n",
        "10. Cost - numeric\n",
        "11. There are a total of 51717 observations. "
      ]
    },
    {
      "cell_type": "markdown",
      "source": [
        "**Are there missing values?**\n"
      ],
      "metadata": {
        "id": "KiSEni0kEAfp"
      }
    },
    {
      "cell_type": "code",
      "execution_count": 5,
      "metadata": {
        "colab": {
          "base_uri": "https://localhost:8080/"
        },
        "id": "APy6NnEfNDQt",
        "outputId": "f5ad3795-20f6-4d0a-8402-7ddf9b985e69"
      },
      "outputs": [
        {
          "output_type": "execute_result",
          "data": {
            "text/plain": [
              "url                                0\n",
              "address                            0\n",
              "name                               0\n",
              "online_order                       0\n",
              "book_table                         0\n",
              "rate                            7775\n",
              "votes                              0\n",
              "phone                           1208\n",
              "location                          21\n",
              "rest_type                        227\n",
              "dish_liked                     28078\n",
              "cuisines                          45\n",
              "approx_cost(for two people)      346\n",
              "reviews_list                       0\n",
              "menu_item                          0\n",
              "listed_in(type)                    0\n",
              "listed_in(city)                    0\n",
              "dtype: int64"
            ]
          },
          "metadata": {},
          "execution_count": 5
        }
      ],
      "source": [
        "data.isnull().sum()"
      ]
    },
    {
      "cell_type": "markdown",
      "source": [
        "We are missing data for columns rate (7775), phone(1208), location(21), rest_type(227), disk_liked(28078), cuisines(45), and approx_cost(for two people)(346). "
      ],
      "metadata": {
        "id": "VY4vF07S3ohN"
      }
    },
    {
      "cell_type": "markdown",
      "source": [
        "Before we analyze our predictors, we must first clean our data. "
      ],
      "metadata": {
        "id": "DhcP46p4Eo8Q"
      }
    },
    {
      "cell_type": "markdown",
      "source": [
        "#Cleaning Up Data\n",
        "###Dropping columns "
      ],
      "metadata": {
        "id": "0XGbzJLAEz5g"
      }
    },
    {
      "cell_type": "markdown",
      "metadata": {
        "id": "rMGXZqND0ax-"
      },
      "source": [
        "Only column votes is of type integer in the dataset. Additionally, the columns phone, dish_liked, url, menu_item, and reviews_list help identify the restaurant but do not add characteristics to the dataset so we can drop them. "
      ]
    },
    {
      "cell_type": "code",
      "execution_count": 6,
      "metadata": {
        "colab": {
          "base_uri": "https://localhost:8080/",
          "height": 364
        },
        "id": "nHi5hjHf3NQI",
        "outputId": "03096ec1-5823-4d34-9b00-085b151fc9e9"
      },
      "outputs": [
        {
          "output_type": "execute_result",
          "data": {
            "text/plain": [
              "              name online_order book_table   rate  votes      location  \\\n",
              "0            Jalsa          Yes        Yes  4.1/5    775  Banashankari   \n",
              "1   Spice Elephant          Yes         No  4.1/5    787  Banashankari   \n",
              "2  San Churro Cafe          Yes         No  3.8/5    918  Banashankari   \n",
              "\n",
              "             rest_type                        cuisines  \\\n",
              "0        Casual Dining  North Indian, Mughlai, Chinese   \n",
              "1        Casual Dining     Chinese, North Indian, Thai   \n",
              "2  Cafe, Casual Dining          Cafe, Mexican, Italian   \n",
              "\n",
              "  approx_cost(for two people) listed_in(type)  \n",
              "0                         800          Buffet  \n",
              "1                         800          Buffet  \n",
              "2                         800          Buffet  "
            ],
            "text/html": [
              "\n",
              "  <div id=\"df-81cd8daa-ad3f-4680-a0e3-52d530f516df\">\n",
              "    <div class=\"colab-df-container\">\n",
              "      <div>\n",
              "<style scoped>\n",
              "    .dataframe tbody tr th:only-of-type {\n",
              "        vertical-align: middle;\n",
              "    }\n",
              "\n",
              "    .dataframe tbody tr th {\n",
              "        vertical-align: top;\n",
              "    }\n",
              "\n",
              "    .dataframe thead th {\n",
              "        text-align: right;\n",
              "    }\n",
              "</style>\n",
              "<table border=\"1\" class=\"dataframe\">\n",
              "  <thead>\n",
              "    <tr style=\"text-align: right;\">\n",
              "      <th></th>\n",
              "      <th>name</th>\n",
              "      <th>online_order</th>\n",
              "      <th>book_table</th>\n",
              "      <th>rate</th>\n",
              "      <th>votes</th>\n",
              "      <th>location</th>\n",
              "      <th>rest_type</th>\n",
              "      <th>cuisines</th>\n",
              "      <th>approx_cost(for two people)</th>\n",
              "      <th>listed_in(type)</th>\n",
              "    </tr>\n",
              "  </thead>\n",
              "  <tbody>\n",
              "    <tr>\n",
              "      <th>0</th>\n",
              "      <td>Jalsa</td>\n",
              "      <td>Yes</td>\n",
              "      <td>Yes</td>\n",
              "      <td>4.1/5</td>\n",
              "      <td>775</td>\n",
              "      <td>Banashankari</td>\n",
              "      <td>Casual Dining</td>\n",
              "      <td>North Indian, Mughlai, Chinese</td>\n",
              "      <td>800</td>\n",
              "      <td>Buffet</td>\n",
              "    </tr>\n",
              "    <tr>\n",
              "      <th>1</th>\n",
              "      <td>Spice Elephant</td>\n",
              "      <td>Yes</td>\n",
              "      <td>No</td>\n",
              "      <td>4.1/5</td>\n",
              "      <td>787</td>\n",
              "      <td>Banashankari</td>\n",
              "      <td>Casual Dining</td>\n",
              "      <td>Chinese, North Indian, Thai</td>\n",
              "      <td>800</td>\n",
              "      <td>Buffet</td>\n",
              "    </tr>\n",
              "    <tr>\n",
              "      <th>2</th>\n",
              "      <td>San Churro Cafe</td>\n",
              "      <td>Yes</td>\n",
              "      <td>No</td>\n",
              "      <td>3.8/5</td>\n",
              "      <td>918</td>\n",
              "      <td>Banashankari</td>\n",
              "      <td>Cafe, Casual Dining</td>\n",
              "      <td>Cafe, Mexican, Italian</td>\n",
              "      <td>800</td>\n",
              "      <td>Buffet</td>\n",
              "    </tr>\n",
              "  </tbody>\n",
              "</table>\n",
              "</div>\n",
              "      <button class=\"colab-df-convert\" onclick=\"convertToInteractive('df-81cd8daa-ad3f-4680-a0e3-52d530f516df')\"\n",
              "              title=\"Convert this dataframe to an interactive table.\"\n",
              "              style=\"display:none;\">\n",
              "        \n",
              "  <svg xmlns=\"http://www.w3.org/2000/svg\" height=\"24px\"viewBox=\"0 0 24 24\"\n",
              "       width=\"24px\">\n",
              "    <path d=\"M0 0h24v24H0V0z\" fill=\"none\"/>\n",
              "    <path d=\"M18.56 5.44l.94 2.06.94-2.06 2.06-.94-2.06-.94-.94-2.06-.94 2.06-2.06.94zm-11 1L8.5 8.5l.94-2.06 2.06-.94-2.06-.94L8.5 2.5l-.94 2.06-2.06.94zm10 10l.94 2.06.94-2.06 2.06-.94-2.06-.94-.94-2.06-.94 2.06-2.06.94z\"/><path d=\"M17.41 7.96l-1.37-1.37c-.4-.4-.92-.59-1.43-.59-.52 0-1.04.2-1.43.59L10.3 9.45l-7.72 7.72c-.78.78-.78 2.05 0 2.83L4 21.41c.39.39.9.59 1.41.59.51 0 1.02-.2 1.41-.59l7.78-7.78 2.81-2.81c.8-.78.8-2.07 0-2.86zM5.41 20L4 18.59l7.72-7.72 1.47 1.35L5.41 20z\"/>\n",
              "  </svg>\n",
              "      </button>\n",
              "      \n",
              "  <style>\n",
              "    .colab-df-container {\n",
              "      display:flex;\n",
              "      flex-wrap:wrap;\n",
              "      gap: 12px;\n",
              "    }\n",
              "\n",
              "    .colab-df-convert {\n",
              "      background-color: #E8F0FE;\n",
              "      border: none;\n",
              "      border-radius: 50%;\n",
              "      cursor: pointer;\n",
              "      display: none;\n",
              "      fill: #1967D2;\n",
              "      height: 32px;\n",
              "      padding: 0 0 0 0;\n",
              "      width: 32px;\n",
              "    }\n",
              "\n",
              "    .colab-df-convert:hover {\n",
              "      background-color: #E2EBFA;\n",
              "      box-shadow: 0px 1px 2px rgba(60, 64, 67, 0.3), 0px 1px 3px 1px rgba(60, 64, 67, 0.15);\n",
              "      fill: #174EA6;\n",
              "    }\n",
              "\n",
              "    [theme=dark] .colab-df-convert {\n",
              "      background-color: #3B4455;\n",
              "      fill: #D2E3FC;\n",
              "    }\n",
              "\n",
              "    [theme=dark] .colab-df-convert:hover {\n",
              "      background-color: #434B5C;\n",
              "      box-shadow: 0px 1px 3px 1px rgba(0, 0, 0, 0.15);\n",
              "      filter: drop-shadow(0px 1px 2px rgba(0, 0, 0, 0.3));\n",
              "      fill: #FFFFFF;\n",
              "    }\n",
              "  </style>\n",
              "\n",
              "      <script>\n",
              "        const buttonEl =\n",
              "          document.querySelector('#df-81cd8daa-ad3f-4680-a0e3-52d530f516df button.colab-df-convert');\n",
              "        buttonEl.style.display =\n",
              "          google.colab.kernel.accessAllowed ? 'block' : 'none';\n",
              "\n",
              "        async function convertToInteractive(key) {\n",
              "          const element = document.querySelector('#df-81cd8daa-ad3f-4680-a0e3-52d530f516df');\n",
              "          const dataTable =\n",
              "            await google.colab.kernel.invokeFunction('convertToInteractive',\n",
              "                                                     [key], {});\n",
              "          if (!dataTable) return;\n",
              "\n",
              "          const docLinkHtml = 'Like what you see? Visit the ' +\n",
              "            '<a target=\"_blank\" href=https://colab.research.google.com/notebooks/data_table.ipynb>data table notebook</a>'\n",
              "            + ' to learn more about interactive tables.';\n",
              "          element.innerHTML = '';\n",
              "          dataTable['output_type'] = 'display_data';\n",
              "          await google.colab.output.renderOutput(dataTable, element);\n",
              "          const docLink = document.createElement('div');\n",
              "          docLink.innerHTML = docLinkHtml;\n",
              "          element.appendChild(docLink);\n",
              "        }\n",
              "      </script>\n",
              "    </div>\n",
              "  </div>\n",
              "  "
            ]
          },
          "metadata": {},
          "execution_count": 6
        }
      ],
      "source": [
        "data.drop(['url','address','phone','menu_item','dish_liked','reviews_list',\"listed_in(city)\"],axis = 1,inplace=True)\n",
        "data.head(3)"
      ]
    },
    {
      "cell_type": "markdown",
      "metadata": {
        "id": "qSzkbYRSldZl"
      },
      "source": [
        "#### Renaming Column Headers\n",
        "To better understand the data, let's first rename our column headers with appropriate units and descripter language. "
      ]
    },
    {
      "cell_type": "code",
      "source": [
        "data.rename(columns={'name':'Restaurant','online_order': 'Order Online?', 'book_table':'Reservation Needed?','votes': 'Number of Votes','location':'City','rest_type': 'Restaurant Type', 'cuisines': 'Cuisines','rate':'Rating','approx_cost(for two people)':'Cost (Rupees)','listed_in(type)':'Meal Type'},inplace=True)\n",
        "data.head(3)"
      ],
      "metadata": {
        "colab": {
          "base_uri": "https://localhost:8080/",
          "height": 381
        },
        "id": "4sn7kItT7W9-",
        "outputId": "524f193b-3001-4c84-a4d9-87f6dc5471ca"
      },
      "execution_count": 7,
      "outputs": [
        {
          "output_type": "execute_result",
          "data": {
            "text/plain": [
              "        Restaurant Order Online? Reservation Needed? Rating  Number of Votes  \\\n",
              "0            Jalsa           Yes                 Yes  4.1/5              775   \n",
              "1   Spice Elephant           Yes                  No  4.1/5              787   \n",
              "2  San Churro Cafe           Yes                  No  3.8/5              918   \n",
              "\n",
              "           City      Restaurant Type                        Cuisines  \\\n",
              "0  Banashankari        Casual Dining  North Indian, Mughlai, Chinese   \n",
              "1  Banashankari        Casual Dining     Chinese, North Indian, Thai   \n",
              "2  Banashankari  Cafe, Casual Dining          Cafe, Mexican, Italian   \n",
              "\n",
              "  Cost (Rupees) Meal Type  \n",
              "0           800    Buffet  \n",
              "1           800    Buffet  \n",
              "2           800    Buffet  "
            ],
            "text/html": [
              "\n",
              "  <div id=\"df-22d60686-0dff-4f26-ac05-5b012c04b05e\">\n",
              "    <div class=\"colab-df-container\">\n",
              "      <div>\n",
              "<style scoped>\n",
              "    .dataframe tbody tr th:only-of-type {\n",
              "        vertical-align: middle;\n",
              "    }\n",
              "\n",
              "    .dataframe tbody tr th {\n",
              "        vertical-align: top;\n",
              "    }\n",
              "\n",
              "    .dataframe thead th {\n",
              "        text-align: right;\n",
              "    }\n",
              "</style>\n",
              "<table border=\"1\" class=\"dataframe\">\n",
              "  <thead>\n",
              "    <tr style=\"text-align: right;\">\n",
              "      <th></th>\n",
              "      <th>Restaurant</th>\n",
              "      <th>Order Online?</th>\n",
              "      <th>Reservation Needed?</th>\n",
              "      <th>Rating</th>\n",
              "      <th>Number of Votes</th>\n",
              "      <th>City</th>\n",
              "      <th>Restaurant Type</th>\n",
              "      <th>Cuisines</th>\n",
              "      <th>Cost (Rupees)</th>\n",
              "      <th>Meal Type</th>\n",
              "    </tr>\n",
              "  </thead>\n",
              "  <tbody>\n",
              "    <tr>\n",
              "      <th>0</th>\n",
              "      <td>Jalsa</td>\n",
              "      <td>Yes</td>\n",
              "      <td>Yes</td>\n",
              "      <td>4.1/5</td>\n",
              "      <td>775</td>\n",
              "      <td>Banashankari</td>\n",
              "      <td>Casual Dining</td>\n",
              "      <td>North Indian, Mughlai, Chinese</td>\n",
              "      <td>800</td>\n",
              "      <td>Buffet</td>\n",
              "    </tr>\n",
              "    <tr>\n",
              "      <th>1</th>\n",
              "      <td>Spice Elephant</td>\n",
              "      <td>Yes</td>\n",
              "      <td>No</td>\n",
              "      <td>4.1/5</td>\n",
              "      <td>787</td>\n",
              "      <td>Banashankari</td>\n",
              "      <td>Casual Dining</td>\n",
              "      <td>Chinese, North Indian, Thai</td>\n",
              "      <td>800</td>\n",
              "      <td>Buffet</td>\n",
              "    </tr>\n",
              "    <tr>\n",
              "      <th>2</th>\n",
              "      <td>San Churro Cafe</td>\n",
              "      <td>Yes</td>\n",
              "      <td>No</td>\n",
              "      <td>3.8/5</td>\n",
              "      <td>918</td>\n",
              "      <td>Banashankari</td>\n",
              "      <td>Cafe, Casual Dining</td>\n",
              "      <td>Cafe, Mexican, Italian</td>\n",
              "      <td>800</td>\n",
              "      <td>Buffet</td>\n",
              "    </tr>\n",
              "  </tbody>\n",
              "</table>\n",
              "</div>\n",
              "      <button class=\"colab-df-convert\" onclick=\"convertToInteractive('df-22d60686-0dff-4f26-ac05-5b012c04b05e')\"\n",
              "              title=\"Convert this dataframe to an interactive table.\"\n",
              "              style=\"display:none;\">\n",
              "        \n",
              "  <svg xmlns=\"http://www.w3.org/2000/svg\" height=\"24px\"viewBox=\"0 0 24 24\"\n",
              "       width=\"24px\">\n",
              "    <path d=\"M0 0h24v24H0V0z\" fill=\"none\"/>\n",
              "    <path d=\"M18.56 5.44l.94 2.06.94-2.06 2.06-.94-2.06-.94-.94-2.06-.94 2.06-2.06.94zm-11 1L8.5 8.5l.94-2.06 2.06-.94-2.06-.94L8.5 2.5l-.94 2.06-2.06.94zm10 10l.94 2.06.94-2.06 2.06-.94-2.06-.94-.94-2.06-.94 2.06-2.06.94z\"/><path d=\"M17.41 7.96l-1.37-1.37c-.4-.4-.92-.59-1.43-.59-.52 0-1.04.2-1.43.59L10.3 9.45l-7.72 7.72c-.78.78-.78 2.05 0 2.83L4 21.41c.39.39.9.59 1.41.59.51 0 1.02-.2 1.41-.59l7.78-7.78 2.81-2.81c.8-.78.8-2.07 0-2.86zM5.41 20L4 18.59l7.72-7.72 1.47 1.35L5.41 20z\"/>\n",
              "  </svg>\n",
              "      </button>\n",
              "      \n",
              "  <style>\n",
              "    .colab-df-container {\n",
              "      display:flex;\n",
              "      flex-wrap:wrap;\n",
              "      gap: 12px;\n",
              "    }\n",
              "\n",
              "    .colab-df-convert {\n",
              "      background-color: #E8F0FE;\n",
              "      border: none;\n",
              "      border-radius: 50%;\n",
              "      cursor: pointer;\n",
              "      display: none;\n",
              "      fill: #1967D2;\n",
              "      height: 32px;\n",
              "      padding: 0 0 0 0;\n",
              "      width: 32px;\n",
              "    }\n",
              "\n",
              "    .colab-df-convert:hover {\n",
              "      background-color: #E2EBFA;\n",
              "      box-shadow: 0px 1px 2px rgba(60, 64, 67, 0.3), 0px 1px 3px 1px rgba(60, 64, 67, 0.15);\n",
              "      fill: #174EA6;\n",
              "    }\n",
              "\n",
              "    [theme=dark] .colab-df-convert {\n",
              "      background-color: #3B4455;\n",
              "      fill: #D2E3FC;\n",
              "    }\n",
              "\n",
              "    [theme=dark] .colab-df-convert:hover {\n",
              "      background-color: #434B5C;\n",
              "      box-shadow: 0px 1px 3px 1px rgba(0, 0, 0, 0.15);\n",
              "      filter: drop-shadow(0px 1px 2px rgba(0, 0, 0, 0.3));\n",
              "      fill: #FFFFFF;\n",
              "    }\n",
              "  </style>\n",
              "\n",
              "      <script>\n",
              "        const buttonEl =\n",
              "          document.querySelector('#df-22d60686-0dff-4f26-ac05-5b012c04b05e button.colab-df-convert');\n",
              "        buttonEl.style.display =\n",
              "          google.colab.kernel.accessAllowed ? 'block' : 'none';\n",
              "\n",
              "        async function convertToInteractive(key) {\n",
              "          const element = document.querySelector('#df-22d60686-0dff-4f26-ac05-5b012c04b05e');\n",
              "          const dataTable =\n",
              "            await google.colab.kernel.invokeFunction('convertToInteractive',\n",
              "                                                     [key], {});\n",
              "          if (!dataTable) return;\n",
              "\n",
              "          const docLinkHtml = 'Like what you see? Visit the ' +\n",
              "            '<a target=\"_blank\" href=https://colab.research.google.com/notebooks/data_table.ipynb>data table notebook</a>'\n",
              "            + ' to learn more about interactive tables.';\n",
              "          element.innerHTML = '';\n",
              "          dataTable['output_type'] = 'display_data';\n",
              "          await google.colab.output.renderOutput(dataTable, element);\n",
              "          const docLink = document.createElement('div');\n",
              "          docLink.innerHTML = docLinkHtml;\n",
              "          element.appendChild(docLink);\n",
              "        }\n",
              "      </script>\n",
              "    </div>\n",
              "  </div>\n",
              "  "
            ]
          },
          "metadata": {},
          "execution_count": 7
        }
      ]
    },
    {
      "cell_type": "markdown",
      "metadata": {
        "id": "bYaWv8P5ljRx"
      },
      "source": [
        "#### Remove Duplicates\n",
        "The Restaurant column appears to have duplicate values. To avoid bias with repeating restaurants, we drop duplicates. "
      ]
    },
    {
      "cell_type": "code",
      "source": [
        "data.drop_duplicates(inplace=True)\n",
        "data.shape\n",
        "data.info()"
      ],
      "metadata": {
        "colab": {
          "base_uri": "https://localhost:8080/"
        },
        "id": "_lfpWv9rAIIf",
        "outputId": "aa907a0d-d773-4e84-a228-52e0f1ce895d"
      },
      "execution_count": 8,
      "outputs": [
        {
          "output_type": "stream",
          "name": "stdout",
          "text": [
            "<class 'pandas.core.frame.DataFrame'>\n",
            "Int64Index: 35011 entries, 0 to 51716\n",
            "Data columns (total 10 columns):\n",
            " #   Column               Non-Null Count  Dtype \n",
            "---  ------               --------------  ----- \n",
            " 0   Restaurant           35011 non-null  object\n",
            " 1   Order Online?        35011 non-null  object\n",
            " 2   Reservation Needed?  35011 non-null  object\n",
            " 3   Rating               31241 non-null  object\n",
            " 4   Number of Votes      35011 non-null  int64 \n",
            " 5   City                 34997 non-null  object\n",
            " 6   Restaurant Type      34855 non-null  object\n",
            " 7   Cuisines             34978 non-null  object\n",
            " 8   Cost (Rupees)        34790 non-null  object\n",
            " 9   Meal Type            35011 non-null  object\n",
            "dtypes: int64(1), object(9)\n",
            "memory usage: 2.9+ MB\n"
          ]
        }
      ]
    },
    {
      "cell_type": "markdown",
      "metadata": {
        "id": "pADiVsTio_AY"
      },
      "source": [
        "#### Clean up individual columns\n",
        "Finally, we should check each variable and clean out data that does not make sense. This can either mean standardizing what \"null\" means in that context or removing random characters from changing data formats.\n",
        "\n",
        "##### *Rating*"
      ]
    },
    {
      "cell_type": "code",
      "source": [
        "data['Rating'].unique()"
      ],
      "metadata": {
        "colab": {
          "base_uri": "https://localhost:8080/"
        },
        "id": "HASjV_tsEyAL",
        "outputId": "ac960fa2-23f0-4214-c92a-23604cadba44"
      },
      "execution_count": 9,
      "outputs": [
        {
          "output_type": "execute_result",
          "data": {
            "text/plain": [
              "array(['4.1/5', '3.8/5', '3.7/5', '3.6/5', '4.6/5', '4.0/5', '4.2/5',\n",
              "       '3.9/5', '3.1/5', '3.0/5', '3.2/5', '3.3/5', '2.8/5', '4.4/5',\n",
              "       '4.3/5', 'NEW', '2.9/5', '3.5/5', nan, '2.6/5', '3.8 /5', '3.4/5',\n",
              "       '4.5/5', '2.5/5', '2.7/5', '4.7/5', '2.4/5', '2.2/5', '2.3/5',\n",
              "       '3.4 /5', '-', '3.6 /5', '4.8/5', '3.9 /5', '4.2 /5', '4.0 /5',\n",
              "       '4.1 /5', '3.7 /5', '3.1 /5', '2.9 /5', '3.3 /5', '2.8 /5',\n",
              "       '3.5 /5', '2.7 /5', '2.5 /5', '3.2 /5', '2.6 /5', '4.5 /5',\n",
              "       '4.3 /5', '4.4 /5', '4.9/5', '2.1/5', '2.0/5', '1.8/5', '4.6 /5',\n",
              "       '4.9 /5', '3.0 /5', '4.8 /5', '2.3 /5', '4.7 /5', '2.4 /5',\n",
              "       '2.1 /5', '2.2 /5', '2.0 /5', '1.8 /5'], dtype=object)"
            ]
          },
          "metadata": {},
          "execution_count": 9
        }
      ]
    },
    {
      "cell_type": "code",
      "source": [
        "data['Rating'].isnull().sum()"
      ],
      "metadata": {
        "colab": {
          "base_uri": "https://localhost:8080/"
        },
        "id": "dsc3m_kaPHh2",
        "outputId": "a20be13c-a079-418a-a893-9cb1e9a98002"
      },
      "execution_count": 10,
      "outputs": [
        {
          "output_type": "execute_result",
          "data": {
            "text/plain": [
              "3770"
            ]
          },
          "metadata": {},
          "execution_count": 10
        }
      ]
    },
    {
      "cell_type": "markdown",
      "source": [
        "By displaying all unique values from the Rating column, we see that some entries contain \"NEW\", \"nan\", and \"-\" representing no ratings. We can standardize empty values to be nan. We also see that the Rating field contains strings of a floating number out of 5. To prepare for analyzing our data, we will extract the rating, setting the variable to be of type float. "
      ],
      "metadata": {
        "id": "I25llr_8Goam"
      }
    },
    {
      "cell_type": "code",
      "source": [
        "def clean(value):\n",
        "    if value=='NEW' or value=='-':\n",
        "        return np.nan\n",
        "    else:\n",
        "        value=str(value).split('/')\n",
        "        value=value[0]\n",
        "        return float(value)\n",
        "    \n",
        "data['Rating']=data['Rating'].apply(clean)\n",
        "data['Rating'].head()\n",
        "data.info()"
      ],
      "metadata": {
        "colab": {
          "base_uri": "https://localhost:8080/"
        },
        "id": "Sc2bnIHKE9pk",
        "outputId": "d08a7e69-e688-44ab-dd6c-f80e04ce5b66"
      },
      "execution_count": 11,
      "outputs": [
        {
          "output_type": "stream",
          "name": "stdout",
          "text": [
            "<class 'pandas.core.frame.DataFrame'>\n",
            "Int64Index: 35011 entries, 0 to 51716\n",
            "Data columns (total 10 columns):\n",
            " #   Column               Non-Null Count  Dtype  \n",
            "---  ------               --------------  -----  \n",
            " 0   Restaurant           35011 non-null  object \n",
            " 1   Order Online?        35011 non-null  object \n",
            " 2   Reservation Needed?  35011 non-null  object \n",
            " 3   Rating               29914 non-null  float64\n",
            " 4   Number of Votes      35011 non-null  int64  \n",
            " 5   City                 34997 non-null  object \n",
            " 6   Restaurant Type      34855 non-null  object \n",
            " 7   Cuisines             34978 non-null  object \n",
            " 8   Cost (Rupees)        34790 non-null  object \n",
            " 9   Meal Type            35011 non-null  object \n",
            "dtypes: float64(1), int64(1), object(8)\n",
            "memory usage: 2.9+ MB\n"
          ]
        }
      ]
    },
    {
      "cell_type": "code",
      "source": [
        "data['Rating'].unique()"
      ],
      "metadata": {
        "colab": {
          "base_uri": "https://localhost:8080/"
        },
        "id": "Fq6szoen5Leb",
        "outputId": "9b24e53b-2a45-4983-9134-2011b5750dd8"
      },
      "execution_count": 12,
      "outputs": [
        {
          "output_type": "execute_result",
          "data": {
            "text/plain": [
              "array([4.1, 3.8, 3.7, 3.6, 4.6, 4. , 4.2, 3.9, 3.1, 3. , 3.2, 3.3, 2.8,\n",
              "       4.4, 4.3, nan, 2.9, 3.5, 2.6, 3.4, 4.5, 2.5, 2.7, 4.7, 2.4, 2.2,\n",
              "       2.3, 4.8, 4.9, 2.1, 2. , 1.8])"
            ]
          },
          "metadata": {},
          "execution_count": 12
        }
      ]
    },
    {
      "cell_type": "markdown",
      "source": [
        "##### *Location*\n"
      ],
      "metadata": {
        "id": "_jssiMlsEeWT"
      }
    },
    {
      "cell_type": "code",
      "source": [
        "data['City'].unique()"
      ],
      "metadata": {
        "colab": {
          "base_uri": "https://localhost:8080/"
        },
        "id": "2kB4E9g6OiK9",
        "outputId": "b85d4ad9-e79b-4fa0-8b12-05ce41ab2922"
      },
      "execution_count": 13,
      "outputs": [
        {
          "output_type": "execute_result",
          "data": {
            "text/plain": [
              "array(['Banashankari', 'Basavanagudi', 'Mysore Road', 'Jayanagar',\n",
              "       'Kumaraswamy Layout', 'Rajarajeshwari Nagar', 'Vijay Nagar',\n",
              "       'Uttarahalli', 'JP Nagar', 'South Bangalore', 'City Market',\n",
              "       'Nagarbhavi', 'Bannerghatta Road', 'BTM', 'Kanakapura Road',\n",
              "       'Bommanahalli', nan, 'CV Raman Nagar', 'Electronic City', 'HSR',\n",
              "       'Marathahalli', 'Sarjapur Road', 'Wilson Garden', 'Shanti Nagar',\n",
              "       'Koramangala 5th Block', 'Koramangala 8th Block', 'Richmond Road',\n",
              "       'Koramangala 7th Block', 'Jalahalli', 'Koramangala 4th Block',\n",
              "       'Bellandur', 'Whitefield', 'East Bangalore', 'Old Airport Road',\n",
              "       'Indiranagar', 'Koramangala 1st Block', 'Frazer Town', 'RT Nagar',\n",
              "       'MG Road', 'Brigade Road', 'Lavelle Road', 'Church Street',\n",
              "       'Ulsoor', 'Residency Road', 'Shivajinagar', 'Infantry Road',\n",
              "       'St. Marks Road', 'Cunningham Road', 'Race Course Road',\n",
              "       'Commercial Street', 'Vasanth Nagar', 'HBR Layout', 'Domlur',\n",
              "       'Ejipura', 'Jeevan Bhima Nagar', 'Old Madras Road', 'Malleshwaram',\n",
              "       'Seshadripuram', 'Kammanahalli', 'Koramangala 6th Block',\n",
              "       'Majestic', 'Langford Town', 'Central Bangalore', 'Sanjay Nagar',\n",
              "       'Brookefield', 'ITPL Main Road, Whitefield',\n",
              "       'Varthur Main Road, Whitefield', 'KR Puram',\n",
              "       'Koramangala 2nd Block', 'Koramangala 3rd Block', 'Koramangala',\n",
              "       'Hosur Road', 'Rajajinagar', 'Banaswadi', 'North Bangalore',\n",
              "       'Nagawara', 'Hennur', 'Kalyan Nagar', 'New BEL Road', 'Jakkur',\n",
              "       'Rammurthy Nagar', 'Thippasandra', 'Kaggadasapura', 'Hebbal',\n",
              "       'Kengeri', 'Sankey Road', 'Sadashiv Nagar', 'Basaveshwara Nagar',\n",
              "       'Yeshwantpur', 'West Bangalore', 'Magadi Road', 'Yelahanka',\n",
              "       'Sahakara Nagar', 'Peenya'], dtype=object)"
            ]
          },
          "metadata": {},
          "execution_count": 13
        }
      ]
    },
    {
      "cell_type": "code",
      "source": [
        "data['City'].isnull().sum()"
      ],
      "metadata": {
        "colab": {
          "base_uri": "https://localhost:8080/"
        },
        "id": "NzR_T-yqQn1e",
        "outputId": "2b3de5d0-dbe8-4d29-d998-def15f7a3114"
      },
      "execution_count": 14,
      "outputs": [
        {
          "output_type": "execute_result",
          "data": {
            "text/plain": [
              "14"
            ]
          },
          "metadata": {},
          "execution_count": 14
        }
      ]
    },
    {
      "cell_type": "code",
      "source": [
        "data['City'].value_counts(ascending=False)"
      ],
      "metadata": {
        "colab": {
          "base_uri": "https://localhost:8080/"
        },
        "id": "Z8XTRsjdRCAx",
        "outputId": "271868f9-87e4-4316-b9d1-34387e7a36ff"
      },
      "execution_count": 15,
      "outputs": [
        {
          "output_type": "execute_result",
          "data": {
            "text/plain": [
              "BTM                     2514\n",
              "Whitefield              1972\n",
              "Indiranagar             1789\n",
              "HSR                     1769\n",
              "Marathahalli            1683\n",
              "                        ... \n",
              "Central Bangalore          5\n",
              "Nagarbhavi                 4\n",
              "Rajarajeshwari Nagar       2\n",
              "Jakkur                     1\n",
              "Peenya                     1\n",
              "Name: City, Length: 93, dtype: int64"
            ]
          },
          "metadata": {},
          "execution_count": 15
        }
      ]
    },
    {
      "cell_type": "markdown",
      "source": [
        "Looking at the breakdown of cities we see no typos or errors and can proceed."
      ],
      "metadata": {
        "id": "H1b7uKb6RGz2"
      }
    },
    {
      "cell_type": "markdown",
      "source": [
        "##### *Cost*\n"
      ],
      "metadata": {
        "id": "oBR3IyPDOWvP"
      }
    },
    {
      "cell_type": "code",
      "source": [
        "data['Cost (Rupees)'].unique()"
      ],
      "metadata": {
        "colab": {
          "base_uri": "https://localhost:8080/"
        },
        "id": "6_itvL5URywa",
        "outputId": "099a9b3e-7b5e-4c0c-8d10-a93efa9eee06"
      },
      "execution_count": 16,
      "outputs": [
        {
          "output_type": "execute_result",
          "data": {
            "text/plain": [
              "array(['800', '300', '600', '700', '550', '500', '450', '650', '400',\n",
              "       '900', '200', '750', '150', '850', '100', '1,200', '350', '250',\n",
              "       '950', '1,000', '1,500', '1,300', '199', '80', '1,100', '160',\n",
              "       '1,600', '230', '130', '50', '190', '1,700', nan, '1,400', '180',\n",
              "       '1,350', '2,200', '2,000', '1,800', '1,900', '330', '2,500',\n",
              "       '2,100', '3,000', '2,800', '3,400', '40', '1,250', '3,500',\n",
              "       '4,000', '2,400', '2,600', '120', '1,450', '469', '70', '3,200',\n",
              "       '60', '560', '240', '360', '6,000', '1,050', '2,300', '4,100',\n",
              "       '5,000', '3,700', '1,650', '2,700', '4,500', '140'], dtype=object)"
            ]
          },
          "metadata": {},
          "execution_count": 16
        }
      ]
    },
    {
      "cell_type": "code",
      "source": [
        "data['Cost (Rupees)'].isnull().sum()"
      ],
      "metadata": {
        "colab": {
          "base_uri": "https://localhost:8080/"
        },
        "id": "BA-Bs-rtgzNO",
        "outputId": "7d42f5a6-dea3-49c5-c313-e561c5471e9b"
      },
      "execution_count": 17,
      "outputs": [
        {
          "output_type": "execute_result",
          "data": {
            "text/plain": [
              "221"
            ]
          },
          "metadata": {},
          "execution_count": 17
        }
      ]
    },
    {
      "cell_type": "code",
      "source": [
        "data = data.dropna(subset = ['Cost (Rupees)'])"
      ],
      "metadata": {
        "id": "3b94QXngH4Y7"
      },
      "execution_count": 18,
      "outputs": []
    },
    {
      "cell_type": "code",
      "source": [
        "def money(value):\n",
        "    value=str(value)\n",
        "    if ',' in value:\n",
        "        value=value.replace(',','')\n",
        "        return int(value)\n",
        "    else:\n",
        "        return int(value)\n",
        "\n",
        "data['Cost (Rupees)']=data['Cost (Rupees)'].apply(money)"
      ],
      "metadata": {
        "id": "wIznkB0YgnYS"
      },
      "execution_count": 19,
      "outputs": []
    },
    {
      "cell_type": "code",
      "source": [
        "data.info()"
      ],
      "metadata": {
        "colab": {
          "base_uri": "https://localhost:8080/"
        },
        "id": "-cylgGmVhCBo",
        "outputId": "46a05c53-96a0-41f7-a52e-370b22d44cca"
      },
      "execution_count": 20,
      "outputs": [
        {
          "output_type": "stream",
          "name": "stdout",
          "text": [
            "<class 'pandas.core.frame.DataFrame'>\n",
            "Int64Index: 34790 entries, 0 to 51716\n",
            "Data columns (total 10 columns):\n",
            " #   Column               Non-Null Count  Dtype  \n",
            "---  ------               --------------  -----  \n",
            " 0   Restaurant           34790 non-null  object \n",
            " 1   Order Online?        34790 non-null  object \n",
            " 2   Reservation Needed?  34790 non-null  object \n",
            " 3   Rating               29751 non-null  float64\n",
            " 4   Number of Votes      34790 non-null  int64  \n",
            " 5   City                 34790 non-null  object \n",
            " 6   Restaurant Type      34650 non-null  object \n",
            " 7   Cuisines             34776 non-null  object \n",
            " 8   Cost (Rupees)        34790 non-null  int64  \n",
            " 9   Meal Type            34790 non-null  object \n",
            "dtypes: float64(1), int64(2), object(7)\n",
            "memory usage: 2.9+ MB\n"
          ]
        }
      ]
    },
    {
      "cell_type": "markdown",
      "source": [
        "Examining the unique values of Cost, we can see that the cost is stored as text with type object. We can correct the type to integer so that we can later model the variables.\n",
        "\n",
        "\n",
        "\n"
      ],
      "metadata": {
        "id": "9jOAzE64RqHa"
      }
    },
    {
      "cell_type": "markdown",
      "source": [
        "##### *Booking*\n"
      ],
      "metadata": {
        "id": "Z815hxtXOYh8"
      }
    },
    {
      "cell_type": "code",
      "source": [
        "data['Reservation Needed?'].unique()"
      ],
      "metadata": {
        "colab": {
          "base_uri": "https://localhost:8080/"
        },
        "id": "3qTILclMWKqt",
        "outputId": "cce3cbfa-e1b1-4b9b-d081-b2a1dc3d5203"
      },
      "execution_count": 21,
      "outputs": [
        {
          "output_type": "execute_result",
          "data": {
            "text/plain": [
              "array(['Yes', 'No'], dtype=object)"
            ]
          },
          "metadata": {},
          "execution_count": 21
        }
      ]
    },
    {
      "cell_type": "code",
      "source": [
        "data['Reservation Needed?'].isnull().sum()"
      ],
      "metadata": {
        "colab": {
          "base_uri": "https://localhost:8080/"
        },
        "id": "sg-Q52ngWcB8",
        "outputId": "3088a71c-1287-437f-b67c-a74b61a53fbd"
      },
      "execution_count": 22,
      "outputs": [
        {
          "output_type": "execute_result",
          "data": {
            "text/plain": [
              "0"
            ]
          },
          "metadata": {},
          "execution_count": 22
        }
      ]
    },
    {
      "cell_type": "markdown",
      "source": [
        "##### *Online Order*\n"
      ],
      "metadata": {
        "id": "DnLEu_bJOaC3"
      }
    },
    {
      "cell_type": "code",
      "source": [
        "data['Order Online?'].unique()"
      ],
      "metadata": {
        "colab": {
          "base_uri": "https://localhost:8080/"
        },
        "id": "G4wtq9KyWion",
        "outputId": "a34d63be-9fcf-4894-be4b-dfcba0196bb6"
      },
      "execution_count": 23,
      "outputs": [
        {
          "output_type": "execute_result",
          "data": {
            "text/plain": [
              "array(['Yes', 'No'], dtype=object)"
            ]
          },
          "metadata": {},
          "execution_count": 23
        }
      ]
    },
    {
      "cell_type": "code",
      "source": [
        "data['Order Online?'].isnull().sum()"
      ],
      "metadata": {
        "colab": {
          "base_uri": "https://localhost:8080/"
        },
        "id": "ELzgWwlHW0kF",
        "outputId": "7607eff2-fec2-4827-a10f-c9239777ee08"
      },
      "execution_count": 24,
      "outputs": [
        {
          "output_type": "execute_result",
          "data": {
            "text/plain": [
              "0"
            ]
          },
          "metadata": {},
          "execution_count": 24
        }
      ]
    },
    {
      "cell_type": "markdown",
      "source": [
        "##### *Restaurant Type*\n"
      ],
      "metadata": {
        "id": "qpuaFEgXObjy"
      }
    },
    {
      "cell_type": "code",
      "source": [
        "data['Restaurant Type'].unique()"
      ],
      "metadata": {
        "colab": {
          "base_uri": "https://localhost:8080/"
        },
        "id": "crfaw3JcXEQC",
        "outputId": "e997d30c-1eac-4ab7-e55c-8c864ed7f6f5"
      },
      "execution_count": 25,
      "outputs": [
        {
          "output_type": "execute_result",
          "data": {
            "text/plain": [
              "array(['Casual Dining', 'Cafe, Casual Dining', 'Quick Bites',\n",
              "       'Casual Dining, Cafe', 'Cafe', 'Quick Bites, Cafe',\n",
              "       'Cafe, Quick Bites', 'Delivery', 'Mess', 'Dessert Parlor',\n",
              "       'Bakery, Dessert Parlor', 'Pub', 'Bakery', 'Takeaway, Delivery',\n",
              "       'Fine Dining', 'Beverage Shop', 'Sweet Shop', 'Bar',\n",
              "       'Beverage Shop, Quick Bites', 'Confectionery',\n",
              "       'Quick Bites, Beverage Shop', 'Dessert Parlor, Sweet Shop',\n",
              "       'Bakery, Quick Bites', 'Sweet Shop, Quick Bites', 'Kiosk',\n",
              "       'Food Truck', 'Quick Bites, Dessert Parlor',\n",
              "       'Beverage Shop, Dessert Parlor', 'Takeaway', 'Pub, Casual Dining',\n",
              "       'Casual Dining, Bar', 'Dessert Parlor, Beverage Shop',\n",
              "       'Quick Bites, Bakery', 'Dessert Parlor, Quick Bites',\n",
              "       'Microbrewery, Casual Dining', 'Lounge', 'Bar, Casual Dining',\n",
              "       'Food Court', 'Cafe, Bakery', nan, 'Dhaba',\n",
              "       'Quick Bites, Sweet Shop', 'Microbrewery',\n",
              "       'Food Court, Quick Bites', 'Pub, Bar', 'Casual Dining, Pub',\n",
              "       'Lounge, Bar', 'Food Court, Dessert Parlor',\n",
              "       'Casual Dining, Sweet Shop', 'Food Court, Casual Dining',\n",
              "       'Casual Dining, Microbrewery', 'Sweet Shop, Dessert Parlor',\n",
              "       'Bakery, Beverage Shop', 'Lounge, Casual Dining',\n",
              "       'Cafe, Food Court', 'Beverage Shop, Cafe', 'Cafe, Dessert Parlor',\n",
              "       'Dessert Parlor, Cafe', 'Dessert Parlor, Bakery',\n",
              "       'Microbrewery, Pub', 'Bakery, Food Court', 'Club',\n",
              "       'Quick Bites, Food Court', 'Bakery, Cafe', 'Bar, Cafe',\n",
              "       'Pub, Cafe', 'Casual Dining, Irani Cafee', 'Fine Dining, Lounge',\n",
              "       'Bar, Quick Bites', 'Bakery, Kiosk', 'Pub, Microbrewery',\n",
              "       'Microbrewery, Lounge', 'Fine Dining, Microbrewery',\n",
              "       'Fine Dining, Bar', 'Mess, Quick Bites', 'Dessert Parlor, Kiosk',\n",
              "       'Bhojanalya', 'Casual Dining, Quick Bites', 'Pop Up', 'Cafe, Bar',\n",
              "       'Casual Dining, Lounge', 'Bakery, Sweet Shop', 'Microbrewery, Bar',\n",
              "       'Cafe, Lounge', 'Bar, Pub', 'Lounge, Cafe', 'Club, Casual Dining',\n",
              "       'Quick Bites, Mess', 'Quick Bites, Meat Shop',\n",
              "       'Quick Bites, Kiosk', 'Lounge, Microbrewery',\n",
              "       'Food Court, Beverage Shop', 'Dessert Parlor, Food Court',\n",
              "       'Bar, Lounge'], dtype=object)"
            ]
          },
          "metadata": {},
          "execution_count": 25
        }
      ]
    },
    {
      "cell_type": "code",
      "source": [
        "data['Restaurant Type'].value_counts(ascending=False)"
      ],
      "metadata": {
        "colab": {
          "base_uri": "https://localhost:8080/"
        },
        "id": "Jq8EQLNMXM5-",
        "outputId": "e352fbab-b1af-40d4-8f0a-4cc420a4da07"
      },
      "execution_count": 26,
      "outputs": [
        {
          "output_type": "execute_result",
          "data": {
            "text/plain": [
              "Quick Bites                   12125\n",
              "Casual Dining                  7535\n",
              "Cafe                           2578\n",
              "Delivery                       1509\n",
              "Dessert Parlor                 1491\n",
              "                              ...  \n",
              "Pop Up                            1\n",
              "Quick Bites, Kiosk                1\n",
              "Mess, Quick Bites                 1\n",
              "Dessert Parlor, Food Court        1\n",
              "Sweet Shop, Dessert Parlor        1\n",
              "Name: Restaurant Type, Length: 93, dtype: int64"
            ]
          },
          "metadata": {},
          "execution_count": 26
        }
      ]
    },
    {
      "cell_type": "code",
      "source": [
        "data['Restaurant Type'].isnull().sum()"
      ],
      "metadata": {
        "id": "enYHnGIrIaqm",
        "outputId": "11d4dbeb-4825-4fe0-9286-4546e19d85c8",
        "colab": {
          "base_uri": "https://localhost:8080/"
        }
      },
      "execution_count": 27,
      "outputs": [
        {
          "output_type": "execute_result",
          "data": {
            "text/plain": [
              "140"
            ]
          },
          "metadata": {},
          "execution_count": 27
        }
      ]
    },
    {
      "cell_type": "markdown",
      "source": [
        "##### *Meal Type*\n"
      ],
      "metadata": {
        "id": "hE2sk06jOdQm"
      }
    },
    {
      "cell_type": "code",
      "source": [
        "data['Meal Type'].unique()"
      ],
      "metadata": {
        "colab": {
          "base_uri": "https://localhost:8080/"
        },
        "id": "apnshfh8YKE0",
        "outputId": "a657ffd6-bdd6-450a-808d-5186e21a2958"
      },
      "execution_count": 28,
      "outputs": [
        {
          "output_type": "execute_result",
          "data": {
            "text/plain": [
              "array(['Buffet', 'Cafes', 'Delivery', 'Desserts', 'Dine-out',\n",
              "       'Drinks & nightlife', 'Pubs and bars'], dtype=object)"
            ]
          },
          "metadata": {},
          "execution_count": 28
        }
      ]
    },
    {
      "cell_type": "code",
      "source": [
        "data['Meal Type'].value_counts()"
      ],
      "metadata": {
        "colab": {
          "base_uri": "https://localhost:8080/"
        },
        "id": "qOCIaf_sYbA4",
        "outputId": "5189d161-8ad5-4b3b-d206-668b8e568c2a"
      },
      "execution_count": 29,
      "outputs": [
        {
          "output_type": "execute_result",
          "data": {
            "text/plain": [
              "Delivery              16078\n",
              "Dine-out              12847\n",
              "Desserts               2459\n",
              "Cafes                  1238\n",
              "Drinks & nightlife      902\n",
              "Buffet                  669\n",
              "Pubs and bars           597\n",
              "Name: Meal Type, dtype: int64"
            ]
          },
          "metadata": {},
          "execution_count": 29
        }
      ]
    },
    {
      "cell_type": "code",
      "source": [
        "data['Meal Type'].isnull().sum()"
      ],
      "metadata": {
        "colab": {
          "base_uri": "https://localhost:8080/"
        },
        "id": "0WyBRXASYohY",
        "outputId": "5463cb5f-1e6e-4683-9f50-aa50fee71fe8"
      },
      "execution_count": 30,
      "outputs": [
        {
          "output_type": "execute_result",
          "data": {
            "text/plain": [
              "0"
            ]
          },
          "metadata": {},
          "execution_count": 30
        }
      ]
    },
    {
      "cell_type": "markdown",
      "source": [
        "##### *Cuisines*\n"
      ],
      "metadata": {
        "id": "1IecDfrLOeuN"
      }
    },
    {
      "cell_type": "code",
      "source": [
        "data['Cuisines'].unique()"
      ],
      "metadata": {
        "colab": {
          "base_uri": "https://localhost:8080/"
        },
        "id": "2iCI5JnTYy7Z",
        "outputId": "d8a2a24a-83d3-48ce-daee-e5a8a20492fd"
      },
      "execution_count": 31,
      "outputs": [
        {
          "output_type": "execute_result",
          "data": {
            "text/plain": [
              "array(['North Indian, Mughlai, Chinese', 'Chinese, North Indian, Thai',\n",
              "       'Cafe, Mexican, Italian', ...,\n",
              "       'North Indian, Street Food, Biryani', 'Chinese, Mughlai',\n",
              "       'North Indian, Chinese, Arabian, Momos'], dtype=object)"
            ]
          },
          "metadata": {},
          "execution_count": 31
        }
      ]
    },
    {
      "cell_type": "code",
      "source": [
        "data['Cuisines'].value_counts()"
      ],
      "metadata": {
        "colab": {
          "base_uri": "https://localhost:8080/"
        },
        "id": "FdgNeNkZYuAl",
        "outputId": "e9aa7de9-f930-4b27-b5ce-840959219417"
      },
      "execution_count": 32,
      "outputs": [
        {
          "output_type": "execute_result",
          "data": {
            "text/plain": [
              "North Indian                                   1907\n",
              "North Indian, Chinese                          1577\n",
              "South Indian                                   1172\n",
              "Bakery, Desserts                                593\n",
              "Biryani                                         560\n",
              "                                               ... \n",
              "Salad, Juices                                     1\n",
              "Pizza, Italian, Chinese, Rolls, Biryani           1\n",
              "Burger, Juices                                    1\n",
              "North Indian, Fast Food, Biryani, Beverages       1\n",
              "North Indian, Chinese, Arabian, Momos             1\n",
              "Name: Cuisines, Length: 2715, dtype: int64"
            ]
          },
          "metadata": {},
          "execution_count": 32
        }
      ]
    },
    {
      "cell_type": "code",
      "source": [
        "data['Cuisines'].isnull().sum()"
      ],
      "metadata": {
        "id": "KvnSoKk9IjXf",
        "outputId": "c9c7f4e0-53b3-48b6-b17d-016732698565",
        "colab": {
          "base_uri": "https://localhost:8080/"
        }
      },
      "execution_count": 33,
      "outputs": [
        {
          "output_type": "execute_result",
          "data": {
            "text/plain": [
              "14"
            ]
          },
          "metadata": {},
          "execution_count": 33
        }
      ]
    },
    {
      "cell_type": "markdown",
      "source": [
        "##### *Restaurant*"
      ],
      "metadata": {
        "id": "RJnBCBcPOgE8"
      }
    },
    {
      "cell_type": "code",
      "source": [
        "data['Restaurant'].unique()"
      ],
      "metadata": {
        "colab": {
          "base_uri": "https://localhost:8080/"
        },
        "id": "yQI7fMq2ZYqx",
        "outputId": "95e8c1bb-c709-4c63-c591-d4fcc7d49d52"
      },
      "execution_count": 34,
      "outputs": [
        {
          "output_type": "execute_result",
          "data": {
            "text/plain": [
              "array(['Jalsa', 'Spice Elephant', 'San Churro Cafe', ..., 'Nawabs Empire',\n",
              "       'SeeYa Restaurant',\n",
              "       'Plunge - Sheraton Grand Bengaluru Whitefield Hotel &...'],\n",
              "      dtype=object)"
            ]
          },
          "metadata": {},
          "execution_count": 34
        }
      ]
    },
    {
      "cell_type": "code",
      "source": [
        "data.groupby('Restaurant').count().head()"
      ],
      "metadata": {
        "colab": {
          "base_uri": "https://localhost:8080/",
          "height": 354
        },
        "id": "pgILPYuTZkXe",
        "outputId": "46142adc-842e-40a3-ca8f-94cbcd07e13b"
      },
      "execution_count": 35,
      "outputs": [
        {
          "output_type": "execute_result",
          "data": {
            "text/plain": [
              "                        Order Online?  Reservation Needed?  Rating  \\\n",
              "Restaurant                                                           \n",
              "#FeelTheROLL                        2                    2       2   \n",
              "#L-81 Cafe                          4                    4       4   \n",
              "#Vibes Restro                       3                    3       0   \n",
              "#refuel                             3                    3       3   \n",
              "'Brahmins' Thatte Idli              1                    1       0   \n",
              "\n",
              "                        Number of Votes  City  Restaurant Type  Cuisines  \\\n",
              "Restaurant                                                                 \n",
              "#FeelTheROLL                          2     2                2         2   \n",
              "#L-81 Cafe                            4     4                4         4   \n",
              "#Vibes Restro                         3     3                3         3   \n",
              "#refuel                               3     3                3         3   \n",
              "'Brahmins' Thatte Idli                1     1                1         1   \n",
              "\n",
              "                        Cost (Rupees)  Meal Type  \n",
              "Restaurant                                        \n",
              "#FeelTheROLL                        2          2  \n",
              "#L-81 Cafe                          4          4  \n",
              "#Vibes Restro                       3          3  \n",
              "#refuel                             3          3  \n",
              "'Brahmins' Thatte Idli              1          1  "
            ],
            "text/html": [
              "\n",
              "  <div id=\"df-db27f076-e773-4d58-b1f7-4d9804ad9f43\">\n",
              "    <div class=\"colab-df-container\">\n",
              "      <div>\n",
              "<style scoped>\n",
              "    .dataframe tbody tr th:only-of-type {\n",
              "        vertical-align: middle;\n",
              "    }\n",
              "\n",
              "    .dataframe tbody tr th {\n",
              "        vertical-align: top;\n",
              "    }\n",
              "\n",
              "    .dataframe thead th {\n",
              "        text-align: right;\n",
              "    }\n",
              "</style>\n",
              "<table border=\"1\" class=\"dataframe\">\n",
              "  <thead>\n",
              "    <tr style=\"text-align: right;\">\n",
              "      <th></th>\n",
              "      <th>Order Online?</th>\n",
              "      <th>Reservation Needed?</th>\n",
              "      <th>Rating</th>\n",
              "      <th>Number of Votes</th>\n",
              "      <th>City</th>\n",
              "      <th>Restaurant Type</th>\n",
              "      <th>Cuisines</th>\n",
              "      <th>Cost (Rupees)</th>\n",
              "      <th>Meal Type</th>\n",
              "    </tr>\n",
              "    <tr>\n",
              "      <th>Restaurant</th>\n",
              "      <th></th>\n",
              "      <th></th>\n",
              "      <th></th>\n",
              "      <th></th>\n",
              "      <th></th>\n",
              "      <th></th>\n",
              "      <th></th>\n",
              "      <th></th>\n",
              "      <th></th>\n",
              "    </tr>\n",
              "  </thead>\n",
              "  <tbody>\n",
              "    <tr>\n",
              "      <th>#FeelTheROLL</th>\n",
              "      <td>2</td>\n",
              "      <td>2</td>\n",
              "      <td>2</td>\n",
              "      <td>2</td>\n",
              "      <td>2</td>\n",
              "      <td>2</td>\n",
              "      <td>2</td>\n",
              "      <td>2</td>\n",
              "      <td>2</td>\n",
              "    </tr>\n",
              "    <tr>\n",
              "      <th>#L-81 Cafe</th>\n",
              "      <td>4</td>\n",
              "      <td>4</td>\n",
              "      <td>4</td>\n",
              "      <td>4</td>\n",
              "      <td>4</td>\n",
              "      <td>4</td>\n",
              "      <td>4</td>\n",
              "      <td>4</td>\n",
              "      <td>4</td>\n",
              "    </tr>\n",
              "    <tr>\n",
              "      <th>#Vibes Restro</th>\n",
              "      <td>3</td>\n",
              "      <td>3</td>\n",
              "      <td>0</td>\n",
              "      <td>3</td>\n",
              "      <td>3</td>\n",
              "      <td>3</td>\n",
              "      <td>3</td>\n",
              "      <td>3</td>\n",
              "      <td>3</td>\n",
              "    </tr>\n",
              "    <tr>\n",
              "      <th>#refuel</th>\n",
              "      <td>3</td>\n",
              "      <td>3</td>\n",
              "      <td>3</td>\n",
              "      <td>3</td>\n",
              "      <td>3</td>\n",
              "      <td>3</td>\n",
              "      <td>3</td>\n",
              "      <td>3</td>\n",
              "      <td>3</td>\n",
              "    </tr>\n",
              "    <tr>\n",
              "      <th>'Brahmins' Thatte Idli</th>\n",
              "      <td>1</td>\n",
              "      <td>1</td>\n",
              "      <td>0</td>\n",
              "      <td>1</td>\n",
              "      <td>1</td>\n",
              "      <td>1</td>\n",
              "      <td>1</td>\n",
              "      <td>1</td>\n",
              "      <td>1</td>\n",
              "    </tr>\n",
              "  </tbody>\n",
              "</table>\n",
              "</div>\n",
              "      <button class=\"colab-df-convert\" onclick=\"convertToInteractive('df-db27f076-e773-4d58-b1f7-4d9804ad9f43')\"\n",
              "              title=\"Convert this dataframe to an interactive table.\"\n",
              "              style=\"display:none;\">\n",
              "        \n",
              "  <svg xmlns=\"http://www.w3.org/2000/svg\" height=\"24px\"viewBox=\"0 0 24 24\"\n",
              "       width=\"24px\">\n",
              "    <path d=\"M0 0h24v24H0V0z\" fill=\"none\"/>\n",
              "    <path d=\"M18.56 5.44l.94 2.06.94-2.06 2.06-.94-2.06-.94-.94-2.06-.94 2.06-2.06.94zm-11 1L8.5 8.5l.94-2.06 2.06-.94-2.06-.94L8.5 2.5l-.94 2.06-2.06.94zm10 10l.94 2.06.94-2.06 2.06-.94-2.06-.94-.94-2.06-.94 2.06-2.06.94z\"/><path d=\"M17.41 7.96l-1.37-1.37c-.4-.4-.92-.59-1.43-.59-.52 0-1.04.2-1.43.59L10.3 9.45l-7.72 7.72c-.78.78-.78 2.05 0 2.83L4 21.41c.39.39.9.59 1.41.59.51 0 1.02-.2 1.41-.59l7.78-7.78 2.81-2.81c.8-.78.8-2.07 0-2.86zM5.41 20L4 18.59l7.72-7.72 1.47 1.35L5.41 20z\"/>\n",
              "  </svg>\n",
              "      </button>\n",
              "      \n",
              "  <style>\n",
              "    .colab-df-container {\n",
              "      display:flex;\n",
              "      flex-wrap:wrap;\n",
              "      gap: 12px;\n",
              "    }\n",
              "\n",
              "    .colab-df-convert {\n",
              "      background-color: #E8F0FE;\n",
              "      border: none;\n",
              "      border-radius: 50%;\n",
              "      cursor: pointer;\n",
              "      display: none;\n",
              "      fill: #1967D2;\n",
              "      height: 32px;\n",
              "      padding: 0 0 0 0;\n",
              "      width: 32px;\n",
              "    }\n",
              "\n",
              "    .colab-df-convert:hover {\n",
              "      background-color: #E2EBFA;\n",
              "      box-shadow: 0px 1px 2px rgba(60, 64, 67, 0.3), 0px 1px 3px 1px rgba(60, 64, 67, 0.15);\n",
              "      fill: #174EA6;\n",
              "    }\n",
              "\n",
              "    [theme=dark] .colab-df-convert {\n",
              "      background-color: #3B4455;\n",
              "      fill: #D2E3FC;\n",
              "    }\n",
              "\n",
              "    [theme=dark] .colab-df-convert:hover {\n",
              "      background-color: #434B5C;\n",
              "      box-shadow: 0px 1px 3px 1px rgba(0, 0, 0, 0.15);\n",
              "      filter: drop-shadow(0px 1px 2px rgba(0, 0, 0, 0.3));\n",
              "      fill: #FFFFFF;\n",
              "    }\n",
              "  </style>\n",
              "\n",
              "      <script>\n",
              "        const buttonEl =\n",
              "          document.querySelector('#df-db27f076-e773-4d58-b1f7-4d9804ad9f43 button.colab-df-convert');\n",
              "        buttonEl.style.display =\n",
              "          google.colab.kernel.accessAllowed ? 'block' : 'none';\n",
              "\n",
              "        async function convertToInteractive(key) {\n",
              "          const element = document.querySelector('#df-db27f076-e773-4d58-b1f7-4d9804ad9f43');\n",
              "          const dataTable =\n",
              "            await google.colab.kernel.invokeFunction('convertToInteractive',\n",
              "                                                     [key], {});\n",
              "          if (!dataTable) return;\n",
              "\n",
              "          const docLinkHtml = 'Like what you see? Visit the ' +\n",
              "            '<a target=\"_blank\" href=https://colab.research.google.com/notebooks/data_table.ipynb>data table notebook</a>'\n",
              "            + ' to learn more about interactive tables.';\n",
              "          element.innerHTML = '';\n",
              "          dataTable['output_type'] = 'display_data';\n",
              "          await google.colab.output.renderOutput(dataTable, element);\n",
              "          const docLink = document.createElement('div');\n",
              "          docLink.innerHTML = docLinkHtml;\n",
              "          element.appendChild(docLink);\n",
              "        }\n",
              "      </script>\n",
              "    </div>\n",
              "  </div>\n",
              "  "
            ]
          },
          "metadata": {},
          "execution_count": 35
        }
      ]
    },
    {
      "cell_type": "code",
      "source": [
        "#Remove random characters\n",
        "\n",
        "data['Restaurant']=data['Restaurant'].str.replace('[Ãx][^A-Za-z]+','',regex=True)"
      ],
      "metadata": {
        "id": "82_xIh76Z51H"
      },
      "execution_count": 36,
      "outputs": []
    },
    {
      "cell_type": "code",
      "source": [
        "data.groupby('Restaurant').count().head()"
      ],
      "metadata": {
        "colab": {
          "base_uri": "https://localhost:8080/",
          "height": 354
        },
        "id": "ud1ABMI_aQRe",
        "outputId": "620ff0d6-2188-426c-ee1b-0f6409004b8c"
      },
      "execution_count": 37,
      "outputs": [
        {
          "output_type": "execute_result",
          "data": {
            "text/plain": [
              "                        Order Online?  Reservation Needed?  Rating  \\\n",
              "Restaurant                                                           \n",
              "#FeelTheROLL                        2                    2       2   \n",
              "#L-81 Cafe                          4                    4       4   \n",
              "#Vibes Restro                       3                    3       0   \n",
              "#refuel                             3                    3       3   \n",
              "'Brahmins' Thatte Idli              1                    1       0   \n",
              "\n",
              "                        Number of Votes  City  Restaurant Type  Cuisines  \\\n",
              "Restaurant                                                                 \n",
              "#FeelTheROLL                          2     2                2         2   \n",
              "#L-81 Cafe                            4     4                4         4   \n",
              "#Vibes Restro                         3     3                3         3   \n",
              "#refuel                               3     3                3         3   \n",
              "'Brahmins' Thatte Idli                1     1                1         1   \n",
              "\n",
              "                        Cost (Rupees)  Meal Type  \n",
              "Restaurant                                        \n",
              "#FeelTheROLL                        2          2  \n",
              "#L-81 Cafe                          4          4  \n",
              "#Vibes Restro                       3          3  \n",
              "#refuel                             3          3  \n",
              "'Brahmins' Thatte Idli              1          1  "
            ],
            "text/html": [
              "\n",
              "  <div id=\"df-7c4be409-79fc-4cc6-b3ce-f04efcde0a55\">\n",
              "    <div class=\"colab-df-container\">\n",
              "      <div>\n",
              "<style scoped>\n",
              "    .dataframe tbody tr th:only-of-type {\n",
              "        vertical-align: middle;\n",
              "    }\n",
              "\n",
              "    .dataframe tbody tr th {\n",
              "        vertical-align: top;\n",
              "    }\n",
              "\n",
              "    .dataframe thead th {\n",
              "        text-align: right;\n",
              "    }\n",
              "</style>\n",
              "<table border=\"1\" class=\"dataframe\">\n",
              "  <thead>\n",
              "    <tr style=\"text-align: right;\">\n",
              "      <th></th>\n",
              "      <th>Order Online?</th>\n",
              "      <th>Reservation Needed?</th>\n",
              "      <th>Rating</th>\n",
              "      <th>Number of Votes</th>\n",
              "      <th>City</th>\n",
              "      <th>Restaurant Type</th>\n",
              "      <th>Cuisines</th>\n",
              "      <th>Cost (Rupees)</th>\n",
              "      <th>Meal Type</th>\n",
              "    </tr>\n",
              "    <tr>\n",
              "      <th>Restaurant</th>\n",
              "      <th></th>\n",
              "      <th></th>\n",
              "      <th></th>\n",
              "      <th></th>\n",
              "      <th></th>\n",
              "      <th></th>\n",
              "      <th></th>\n",
              "      <th></th>\n",
              "      <th></th>\n",
              "    </tr>\n",
              "  </thead>\n",
              "  <tbody>\n",
              "    <tr>\n",
              "      <th>#FeelTheROLL</th>\n",
              "      <td>2</td>\n",
              "      <td>2</td>\n",
              "      <td>2</td>\n",
              "      <td>2</td>\n",
              "      <td>2</td>\n",
              "      <td>2</td>\n",
              "      <td>2</td>\n",
              "      <td>2</td>\n",
              "      <td>2</td>\n",
              "    </tr>\n",
              "    <tr>\n",
              "      <th>#L-81 Cafe</th>\n",
              "      <td>4</td>\n",
              "      <td>4</td>\n",
              "      <td>4</td>\n",
              "      <td>4</td>\n",
              "      <td>4</td>\n",
              "      <td>4</td>\n",
              "      <td>4</td>\n",
              "      <td>4</td>\n",
              "      <td>4</td>\n",
              "    </tr>\n",
              "    <tr>\n",
              "      <th>#Vibes Restro</th>\n",
              "      <td>3</td>\n",
              "      <td>3</td>\n",
              "      <td>0</td>\n",
              "      <td>3</td>\n",
              "      <td>3</td>\n",
              "      <td>3</td>\n",
              "      <td>3</td>\n",
              "      <td>3</td>\n",
              "      <td>3</td>\n",
              "    </tr>\n",
              "    <tr>\n",
              "      <th>#refuel</th>\n",
              "      <td>3</td>\n",
              "      <td>3</td>\n",
              "      <td>3</td>\n",
              "      <td>3</td>\n",
              "      <td>3</td>\n",
              "      <td>3</td>\n",
              "      <td>3</td>\n",
              "      <td>3</td>\n",
              "      <td>3</td>\n",
              "    </tr>\n",
              "    <tr>\n",
              "      <th>'Brahmins' Thatte Idli</th>\n",
              "      <td>1</td>\n",
              "      <td>1</td>\n",
              "      <td>0</td>\n",
              "      <td>1</td>\n",
              "      <td>1</td>\n",
              "      <td>1</td>\n",
              "      <td>1</td>\n",
              "      <td>1</td>\n",
              "      <td>1</td>\n",
              "    </tr>\n",
              "  </tbody>\n",
              "</table>\n",
              "</div>\n",
              "      <button class=\"colab-df-convert\" onclick=\"convertToInteractive('df-7c4be409-79fc-4cc6-b3ce-f04efcde0a55')\"\n",
              "              title=\"Convert this dataframe to an interactive table.\"\n",
              "              style=\"display:none;\">\n",
              "        \n",
              "  <svg xmlns=\"http://www.w3.org/2000/svg\" height=\"24px\"viewBox=\"0 0 24 24\"\n",
              "       width=\"24px\">\n",
              "    <path d=\"M0 0h24v24H0V0z\" fill=\"none\"/>\n",
              "    <path d=\"M18.56 5.44l.94 2.06.94-2.06 2.06-.94-2.06-.94-.94-2.06-.94 2.06-2.06.94zm-11 1L8.5 8.5l.94-2.06 2.06-.94-2.06-.94L8.5 2.5l-.94 2.06-2.06.94zm10 10l.94 2.06.94-2.06 2.06-.94-2.06-.94-.94-2.06-.94 2.06-2.06.94z\"/><path d=\"M17.41 7.96l-1.37-1.37c-.4-.4-.92-.59-1.43-.59-.52 0-1.04.2-1.43.59L10.3 9.45l-7.72 7.72c-.78.78-.78 2.05 0 2.83L4 21.41c.39.39.9.59 1.41.59.51 0 1.02-.2 1.41-.59l7.78-7.78 2.81-2.81c.8-.78.8-2.07 0-2.86zM5.41 20L4 18.59l7.72-7.72 1.47 1.35L5.41 20z\"/>\n",
              "  </svg>\n",
              "      </button>\n",
              "      \n",
              "  <style>\n",
              "    .colab-df-container {\n",
              "      display:flex;\n",
              "      flex-wrap:wrap;\n",
              "      gap: 12px;\n",
              "    }\n",
              "\n",
              "    .colab-df-convert {\n",
              "      background-color: #E8F0FE;\n",
              "      border: none;\n",
              "      border-radius: 50%;\n",
              "      cursor: pointer;\n",
              "      display: none;\n",
              "      fill: #1967D2;\n",
              "      height: 32px;\n",
              "      padding: 0 0 0 0;\n",
              "      width: 32px;\n",
              "    }\n",
              "\n",
              "    .colab-df-convert:hover {\n",
              "      background-color: #E2EBFA;\n",
              "      box-shadow: 0px 1px 2px rgba(60, 64, 67, 0.3), 0px 1px 3px 1px rgba(60, 64, 67, 0.15);\n",
              "      fill: #174EA6;\n",
              "    }\n",
              "\n",
              "    [theme=dark] .colab-df-convert {\n",
              "      background-color: #3B4455;\n",
              "      fill: #D2E3FC;\n",
              "    }\n",
              "\n",
              "    [theme=dark] .colab-df-convert:hover {\n",
              "      background-color: #434B5C;\n",
              "      box-shadow: 0px 1px 3px 1px rgba(0, 0, 0, 0.15);\n",
              "      filter: drop-shadow(0px 1px 2px rgba(0, 0, 0, 0.3));\n",
              "      fill: #FFFFFF;\n",
              "    }\n",
              "  </style>\n",
              "\n",
              "      <script>\n",
              "        const buttonEl =\n",
              "          document.querySelector('#df-7c4be409-79fc-4cc6-b3ce-f04efcde0a55 button.colab-df-convert');\n",
              "        buttonEl.style.display =\n",
              "          google.colab.kernel.accessAllowed ? 'block' : 'none';\n",
              "\n",
              "        async function convertToInteractive(key) {\n",
              "          const element = document.querySelector('#df-7c4be409-79fc-4cc6-b3ce-f04efcde0a55');\n",
              "          const dataTable =\n",
              "            await google.colab.kernel.invokeFunction('convertToInteractive',\n",
              "                                                     [key], {});\n",
              "          if (!dataTable) return;\n",
              "\n",
              "          const docLinkHtml = 'Like what you see? Visit the ' +\n",
              "            '<a target=\"_blank\" href=https://colab.research.google.com/notebooks/data_table.ipynb>data table notebook</a>'\n",
              "            + ' to learn more about interactive tables.';\n",
              "          element.innerHTML = '';\n",
              "          dataTable['output_type'] = 'display_data';\n",
              "          await google.colab.output.renderOutput(dataTable, element);\n",
              "          const docLink = document.createElement('div');\n",
              "          docLink.innerHTML = docLinkHtml;\n",
              "          element.appendChild(docLink);\n",
              "        }\n",
              "      </script>\n",
              "    </div>\n",
              "  </div>\n",
              "  "
            ]
          },
          "metadata": {},
          "execution_count": 37
        }
      ]
    },
    {
      "cell_type": "markdown",
      "source": [
        "Imputing Missing Data:\n",
        "We have three methods for imputing missing data. Using the median, dropping, and using machine learning. The median method in our case would not make sense for null values because rating for a restaurant should not be effected by the rest of the data. For example, a new restaurant that did not pass the inspection exam with rating \"NEW\" should not be replaced by a rating higher than 0. We could potentially explore Machine Learning but for the purposes of the training data we can justify using the dropping method because we have most rows contain data.\n",
        "NOTE: I chose to drop NaN but other notebooks chose to use the mean to replace empty values."
      ],
      "metadata": {
        "id": "fmCdzlwYIjl_"
      }
    },
    {
      "cell_type": "code",
      "source": [
        "data = data.dropna()\n",
        "data.info()"
      ],
      "metadata": {
        "colab": {
          "base_uri": "https://localhost:8080/"
        },
        "id": "XMru5JBIMye3",
        "outputId": "aaa657f0-7292-4668-e3f3-40d80034d9d9"
      },
      "execution_count": 38,
      "outputs": [
        {
          "output_type": "stream",
          "name": "stdout",
          "text": [
            "<class 'pandas.core.frame.DataFrame'>\n",
            "Int64Index: 29638 entries, 0 to 51716\n",
            "Data columns (total 10 columns):\n",
            " #   Column               Non-Null Count  Dtype  \n",
            "---  ------               --------------  -----  \n",
            " 0   Restaurant           29638 non-null  object \n",
            " 1   Order Online?        29638 non-null  object \n",
            " 2   Reservation Needed?  29638 non-null  object \n",
            " 3   Rating               29638 non-null  float64\n",
            " 4   Number of Votes      29638 non-null  int64  \n",
            " 5   City                 29638 non-null  object \n",
            " 6   Restaurant Type      29638 non-null  object \n",
            " 7   Cuisines             29638 non-null  object \n",
            " 8   Cost (Rupees)        29638 non-null  int64  \n",
            " 9   Meal Type            29638 non-null  object \n",
            "dtypes: float64(1), int64(2), object(7)\n",
            "memory usage: 2.5+ MB\n"
          ]
        }
      ]
    },
    {
      "cell_type": "code",
      "source": [
        "data.isnull().sum()"
      ],
      "metadata": {
        "colab": {
          "base_uri": "https://localhost:8080/"
        },
        "id": "splcOdH_e0Z7",
        "outputId": "7363e797-ddd8-41dc-b805-e10f3f7667fd"
      },
      "execution_count": 39,
      "outputs": [
        {
          "output_type": "execute_result",
          "data": {
            "text/plain": [
              "Restaurant             0\n",
              "Order Online?          0\n",
              "Reservation Needed?    0\n",
              "Rating                 0\n",
              "Number of Votes        0\n",
              "City                   0\n",
              "Restaurant Type        0\n",
              "Cuisines               0\n",
              "Cost (Rupees)          0\n",
              "Meal Type              0\n",
              "dtype: int64"
            ]
          },
          "metadata": {},
          "execution_count": 39
        }
      ]
    },
    {
      "cell_type": "markdown",
      "metadata": {
        "id": "AWfp7xnFpRWw"
      },
      "source": [
        "Normalize the data to see which variables are useful for predicting rating (check normalized boxplots, correlation, heatmap, and pair plot. then p test to see if predictor is significant. "
      ]
    },
    {
      "cell_type": "markdown",
      "metadata": {
        "id": "y0OwSQe2uwU1"
      },
      "source": [
        "check for multicolinearity, "
      ]
    },
    {
      "cell_type": "code",
      "execution_count": 40,
      "metadata": {
        "colab": {
          "base_uri": "https://localhost:8080/",
          "height": 628
        },
        "id": "4zsjZU4chJ6O",
        "outputId": "b8fd229c-5f77-4561-c4fd-873bc5b9b748"
      },
      "outputs": [
        {
          "output_type": "display_data",
          "data": {
            "text/plain": [
              "<Figure size 576x360 with 0 Axes>"
            ]
          },
          "metadata": {}
        },
        {
          "output_type": "display_data",
          "data": {
            "text/plain": [
              "<Figure size 432x288 with 1 Axes>"
            ],
            "image/png": "[encoded data removed]"
          },
          "metadata": {
            "needs_background": "light"
          }
        },
        {
          "output_type": "display_data",
          "data": {
            "text/plain": [
              "<Figure size 576x360 with 0 Axes>"
            ]
          },
          "metadata": {}
        },
        {
          "output_type": "display_data",
          "data": {
            "text/plain": [
              "<Figure size 432x288 with 1 Axes>"
            ],
            "image/png": "[encoded data removed]"
          },
          "metadata": {
            "needs_background": "light"
          }
        }
      ],
      "source": [
        "#checking the distribution of independent variables\n",
        "from statsmodels.graphics.gofplots import qqplot\n",
        "data_norm=data[['Number of Votes', 'Cost (Rupees)']]\n",
        "for c in data_norm.columns[:]:\n",
        "  plt.figure(figsize=(8,5))\n",
        "  fig=qqplot(data_norm[c],line='45',fit='True')\n",
        "  plt.xticks(fontsize=13)\n",
        "  plt.yticks(fontsize=13)\n",
        "  plt.xlabel(\"Theoretical quantiles\",fontsize=15)\n",
        "  plt.ylabel(\"Sample quantiles\",fontsize=15)\n",
        "  plt.title(\"Q-Q plot of {}\".format(c),fontsize=16)\n",
        "  plt.grid(True)\n",
        "  plt.show()\n"
      ]
    },
    {
      "cell_type": "markdown",
      "metadata": {
        "id": "lcpNIjunjJ4c"
      },
      "source": [
        "1.\tLooking at the Q-Q plot above, it appears that both numeric independent variables are not normally distributed\n",
        "2.\tThe data looks skewed right with a few outliers for entries for the higher values\n"
      ]
    },
    {
      "cell_type": "markdown",
      "metadata": {
        "id": "UKNnocj6AG5z"
      },
      "source": [
        "It is hard to visualize and read data as they are not in same ranges, I'll try to normalize the data for a better understanding and visualization. It will also help later to get normalized coeffiecients when building the Model."
      ]
    },
    {
      "cell_type": "markdown",
      "metadata": {
        "id": "9tUrIKKABCuv"
      },
      "source": [
        "# Data transforming, Feature creation and Analysis"
      ]
    },
    {
      "cell_type": "markdown",
      "source": [
        "**What are the likely distributions of the numeric variables?**"
      ],
      "metadata": {
        "id": "Ir7MDd9QNy8w"
      }
    },
    {
      "cell_type": "code",
      "source": [
        "plt.figure(figsize=(20,7))\n",
        "sns.boxplot(data=data)"
      ],
      "metadata": {
        "colab": {
          "base_uri": "https://localhost:8080/",
          "height": 290
        },
        "id": "dzsOwdJ8F0pm",
        "outputId": "1aca6e7f-f070-4c98-f7ba-81e34544c48c"
      },
      "execution_count": 42,
      "outputs": [
        {
          "output_type": "execute_result",
          "data": {
            "text/plain": [
              "<matplotlib.axes._subplots.AxesSubplot at 0x7f2cb22641d0>"
            ]
          },
          "metadata": {},
          "execution_count": 42
        },
        {
          "output_type": "display_data",
          "data": {
            "text/plain": [
              "<Figure size 1440x504 with 1 Axes>"
            ],
            "image/png": "[encoded data removed]"
          },
          "metadata": {
            "needs_background": "light"
          }
        }
      ]
    },
    {
      "cell_type": "code",
      "source": [
        "sns.pairplot(data)"
      ],
      "metadata": {
        "colab": {
          "base_uri": "https://localhost:8080/",
          "height": 567
        },
        "id": "9ruuqRbg949I",
        "outputId": "adb6d59a-d933-4f67-d9b3-b76cb50b6650"
      },
      "execution_count": 43,
      "outputs": [
        {
          "output_type": "execute_result",
          "data": {
            "text/plain": [
              "<seaborn.axisgrid.PairGrid at 0x7f2cb1925150>"
            ]
          },
          "metadata": {},
          "execution_count": 43
        },
        {
          "output_type": "display_data",
          "data": {
            "text/plain": [
              "<Figure size 540x540 with 12 Axes>"
            ],
            "image/png": "[encoded data removed]"
          },
          "metadata": {
            "needs_background": "light"
          }
        }
      ]
    },
    {
      "cell_type": "code",
      "source": [
        "plt.figure(figsize = (16, 10))\n",
        "corr=data.corr()\n",
        "sns.heatmap(corr, annot = True, cmap=\"YlGnBu\")\n",
        "plt.show()"
      ],
      "metadata": {
        "id": "MMwHhMyvTw7C",
        "colab": {
          "base_uri": "https://localhost:8080/",
          "height": 516
        },
        "outputId": "220c6a54-3a10-44ec-cfc5-a977210271f4"
      },
      "execution_count": 49,
      "outputs": [
        {
          "output_type": "display_data",
          "data": {
            "text/plain": [
              "<Figure size 1152x720 with 2 Axes>"
            ],
            "image/png": "[encoded data removed]"
          },
          "metadata": {
            "needs_background": "light"
          }
        }
      ]
    },
    {
      "cell_type": "code",
      "source": [
        "sns.boxplot(x='Reservation Needed?',y='Rating' , data = data) #,estimator=np.std)"
      ],
      "metadata": {
        "colab": {
          "base_uri": "https://localhost:8080/",
          "height": 297
        },
        "id": "Pc9EVUeWPKGw",
        "outputId": "f69376a0-50ea-4395-a3af-727c7cceaa20"
      },
      "execution_count": 44,
      "outputs": [
        {
          "output_type": "execute_result",
          "data": {
            "text/plain": [
              "<matplotlib.axes._subplots.AxesSubplot at 0x7f2cae3b7ad0>"
            ]
          },
          "metadata": {},
          "execution_count": 44
        },
        {
          "output_type": "display_data",
          "data": {
            "text/plain": [
              "<Figure size 432x288 with 1 Axes>"
            ],
            "image/png": "[encoded data removed]"
          },
          "metadata": {
            "needs_background": "light"
          }
        }
      ]
    },
    {
      "cell_type": "code",
      "source": [
        "sns.boxplot(x='Order Online?',y='Rating' , data = data) #,estimator=np.std)"
      ],
      "metadata": {
        "colab": {
          "base_uri": "https://localhost:8080/",
          "height": 297
        },
        "id": "ef_WOcZhPwqC",
        "outputId": "465a1e9e-007c-4722-8ced-244b5459872d"
      },
      "execution_count": 45,
      "outputs": [
        {
          "output_type": "execute_result",
          "data": {
            "text/plain": [
              "<matplotlib.axes._subplots.AxesSubplot at 0x7f2cae13b450>"
            ]
          },
          "metadata": {},
          "execution_count": 45
        },
        {
          "output_type": "display_data",
          "data": {
            "text/plain": [
              "<Figure size 432x288 with 1 Axes>"
            ],
            "image/png": "[encoded data removed]"
          },
          "metadata": {
            "needs_background": "light"
          }
        }
      ]
    },
    {
      "cell_type": "code",
      "source": [
        "plt.figure(figsize=(16,10))\n",
        "sns.pairplot(data=data, hue='Reservation Needed?')\n",
        "plt.show()"
      ],
      "metadata": {
        "colab": {
          "base_uri": "https://localhost:8080/",
          "height": 567
        },
        "id": "nQg0xd1RTPiQ",
        "outputId": "aecb67d8-c96d-441d-9c49-71e66c11a0b0"
      },
      "execution_count": 46,
      "outputs": [
        {
          "output_type": "display_data",
          "data": {
            "text/plain": [
              "<Figure size 1152x720 with 0 Axes>"
            ]
          },
          "metadata": {}
        },
        {
          "output_type": "display_data",
          "data": {
            "text/plain": [
              "<Figure size 654.125x540 with 12 Axes>"
            ],
            "image/png": "[encoded data removed]"
          },
          "metadata": {
            "needs_background": "light"
          }
        }
      ]
    },
    {
      "cell_type": "markdown",
      "source": [],
      "metadata": {
        "id": "NQzfLkYN53rk"
      }
    },
    {
      "cell_type": "code",
      "source": [
        "top_cuisine = data.groupby('Cuisines')['Rating'].sum().sort_values(ascending=False)\n",
        "top_cuisine.head()\n",
        "\n",
        "plt.figure(figsize=(20, 10))\n",
        "sns.boxplot(x='Cuisines', y='Rating', data=top_cuisine)\n",
        "plt.yscale('log')\n",
        "plt.show()"
      ],
      "metadata": {
        "colab": {
          "base_uri": "https://localhost:8080/",
          "height": 415
        },
        "id": "Jtx5yqpr0xeK",
        "outputId": "b2ec38cf-c001-489a-e84d-c08707e72ddf"
      },
      "execution_count": 72,
      "outputs": [
        {
          "output_type": "error",
          "ename": "ValueError",
          "evalue": "ignored",
          "traceback": [
            "\u001b[0;31m---------------------------------------------------------------------------\u001b[0m",
            "\u001b[0;31mValueError\u001b[0m                                Traceback (most recent call last)",
            "\u001b[0;32m<ipython-input-72-60965454ccc4>\u001b[0m in \u001b[0;36m<module>\u001b[0;34m\u001b[0m\n\u001b[1;32m      3\u001b[0m \u001b[0;34m\u001b[0m\u001b[0m\n\u001b[1;32m      4\u001b[0m \u001b[0mplt\u001b[0m\u001b[0;34m.\u001b[0m\u001b[0mfigure\u001b[0m\u001b[0;34m(\u001b[0m\u001b[0mfigsize\u001b[0m\u001b[0;34m=\u001b[0m\u001b[0;34m(\u001b[0m\u001b[0;36m20\u001b[0m\u001b[0;34m,\u001b[0m \u001b[0;36m10\u001b[0m\u001b[0;34m)\u001b[0m\u001b[0;34m)\u001b[0m\u001b[0;34m\u001b[0m\u001b[0;34m\u001b[0m\u001b[0m\n\u001b[0;32m----> 5\u001b[0;31m \u001b[0msns\u001b[0m\u001b[0;34m.\u001b[0m\u001b[0mboxplot\u001b[0m\u001b[0;34m(\u001b[0m\u001b[0mx\u001b[0m\u001b[0;34m=\u001b[0m\u001b[0;34m'Cuisines'\u001b[0m\u001b[0;34m,\u001b[0m \u001b[0my\u001b[0m\u001b[0;34m=\u001b[0m\u001b[0;34m'Rating'\u001b[0m\u001b[0;34m,\u001b[0m \u001b[0mdata\u001b[0m\u001b[0;34m=\u001b[0m\u001b[0mtop_cuisine\u001b[0m\u001b[0;34m)\u001b[0m\u001b[0;34m\u001b[0m\u001b[0;34m\u001b[0m\u001b[0m\n\u001b[0m\u001b[1;32m      6\u001b[0m \u001b[0mplt\u001b[0m\u001b[0;34m.\u001b[0m\u001b[0myscale\u001b[0m\u001b[0;34m(\u001b[0m\u001b[0;34m'log'\u001b[0m\u001b[0;34m)\u001b[0m\u001b[0;34m\u001b[0m\u001b[0;34m\u001b[0m\u001b[0m\n\u001b[1;32m      7\u001b[0m \u001b[0mplt\u001b[0m\u001b[0;34m.\u001b[0m\u001b[0mshow\u001b[0m\u001b[0;34m(\u001b[0m\u001b[0;34m)\u001b[0m\u001b[0;34m\u001b[0m\u001b[0;34m\u001b[0m\u001b[0m\n",
            "\u001b[0;32m/usr/local/lib/python3.7/dist-packages/seaborn/_decorators.py\u001b[0m in \u001b[0;36minner_f\u001b[0;34m(*args, **kwargs)\u001b[0m\n\u001b[1;32m     44\u001b[0m             )\n\u001b[1;32m     45\u001b[0m         \u001b[0mkwargs\u001b[0m\u001b[0;34m.\u001b[0m\u001b[0mupdate\u001b[0m\u001b[0;34m(\u001b[0m\u001b[0;34m{\u001b[0m\u001b[0mk\u001b[0m\u001b[0;34m:\u001b[0m \u001b[0marg\u001b[0m \u001b[0;32mfor\u001b[0m \u001b[0mk\u001b[0m\u001b[0;34m,\u001b[0m \u001b[0marg\u001b[0m \u001b[0;32min\u001b[0m \u001b[0mzip\u001b[0m\u001b[0;34m(\u001b[0m\u001b[0msig\u001b[0m\u001b[0;34m.\u001b[0m\u001b[0mparameters\u001b[0m\u001b[0;34m,\u001b[0m \u001b[0margs\u001b[0m\u001b[0;34m)\u001b[0m\u001b[0;34m}\u001b[0m\u001b[0;34m)\u001b[0m\u001b[0;34m\u001b[0m\u001b[0;34m\u001b[0m\u001b[0m\n\u001b[0;32m---> 46\u001b[0;31m         \u001b[0;32mreturn\u001b[0m \u001b[0mf\u001b[0m\u001b[0;34m(\u001b[0m\u001b[0;34m**\u001b[0m\u001b[0mkwargs\u001b[0m\u001b[0;34m)\u001b[0m\u001b[0;34m\u001b[0m\u001b[0;34m\u001b[0m\u001b[0m\n\u001b[0m\u001b[1;32m     47\u001b[0m     \u001b[0;32mreturn\u001b[0m \u001b[0minner_f\u001b[0m\u001b[0;34m\u001b[0m\u001b[0;34m\u001b[0m\u001b[0m\n\u001b[1;32m     48\u001b[0m \u001b[0;34m\u001b[0m\u001b[0m\n",
            "\u001b[0;32m/usr/local/lib/python3.7/dist-packages/seaborn/categorical.py\u001b[0m in \u001b[0;36mboxplot\u001b[0;34m(x, y, hue, data, order, hue_order, orient, color, palette, saturation, width, dodge, fliersize, linewidth, whis, ax, **kwargs)\u001b[0m\n\u001b[1;32m   2243\u001b[0m     plotter = _BoxPlotter(x, y, hue, data, order, hue_order,\n\u001b[1;32m   2244\u001b[0m                           \u001b[0morient\u001b[0m\u001b[0;34m,\u001b[0m \u001b[0mcolor\u001b[0m\u001b[0;34m,\u001b[0m \u001b[0mpalette\u001b[0m\u001b[0;34m,\u001b[0m \u001b[0msaturation\u001b[0m\u001b[0;34m,\u001b[0m\u001b[0;34m\u001b[0m\u001b[0;34m\u001b[0m\u001b[0m\n\u001b[0;32m-> 2245\u001b[0;31m                           width, dodge, fliersize, linewidth)\n\u001b[0m\u001b[1;32m   2246\u001b[0m \u001b[0;34m\u001b[0m\u001b[0m\n\u001b[1;32m   2247\u001b[0m     \u001b[0;32mif\u001b[0m \u001b[0max\u001b[0m \u001b[0;32mis\u001b[0m \u001b[0;32mNone\u001b[0m\u001b[0;34m:\u001b[0m\u001b[0;34m\u001b[0m\u001b[0;34m\u001b[0m\u001b[0m\n",
            "\u001b[0;32m/usr/local/lib/python3.7/dist-packages/seaborn/categorical.py\u001b[0m in \u001b[0;36m__init__\u001b[0;34m(self, x, y, hue, data, order, hue_order, orient, color, palette, saturation, width, dodge, fliersize, linewidth)\u001b[0m\n\u001b[1;32m    404\u001b[0m                  width, dodge, fliersize, linewidth):\n\u001b[1;32m    405\u001b[0m \u001b[0;34m\u001b[0m\u001b[0m\n\u001b[0;32m--> 406\u001b[0;31m         \u001b[0mself\u001b[0m\u001b[0;34m.\u001b[0m\u001b[0mestablish_variables\u001b[0m\u001b[0;34m(\u001b[0m\u001b[0mx\u001b[0m\u001b[0;34m,\u001b[0m \u001b[0my\u001b[0m\u001b[0;34m,\u001b[0m \u001b[0mhue\u001b[0m\u001b[0;34m,\u001b[0m \u001b[0mdata\u001b[0m\u001b[0;34m,\u001b[0m \u001b[0morient\u001b[0m\u001b[0;34m,\u001b[0m \u001b[0morder\u001b[0m\u001b[0;34m,\u001b[0m \u001b[0mhue_order\u001b[0m\u001b[0;34m)\u001b[0m\u001b[0;34m\u001b[0m\u001b[0;34m\u001b[0m\u001b[0m\n\u001b[0m\u001b[1;32m    407\u001b[0m         \u001b[0mself\u001b[0m\u001b[0;34m.\u001b[0m\u001b[0mestablish_colors\u001b[0m\u001b[0;34m(\u001b[0m\u001b[0mcolor\u001b[0m\u001b[0;34m,\u001b[0m \u001b[0mpalette\u001b[0m\u001b[0;34m,\u001b[0m \u001b[0msaturation\u001b[0m\u001b[0;34m)\u001b[0m\u001b[0;34m\u001b[0m\u001b[0;34m\u001b[0m\u001b[0m\n\u001b[1;32m    408\u001b[0m \u001b[0;34m\u001b[0m\u001b[0m\n",
            "\u001b[0;32m/usr/local/lib/python3.7/dist-packages/seaborn/categorical.py\u001b[0m in \u001b[0;36mestablish_variables\u001b[0;34m(self, x, y, hue, data, orient, order, hue_order, units)\u001b[0m\n\u001b[1;32m    151\u001b[0m                 \u001b[0;32mif\u001b[0m \u001b[0misinstance\u001b[0m\u001b[0;34m(\u001b[0m\u001b[0mvar\u001b[0m\u001b[0;34m,\u001b[0m \u001b[0mstr\u001b[0m\u001b[0;34m)\u001b[0m\u001b[0;34m:\u001b[0m\u001b[0;34m\u001b[0m\u001b[0;34m\u001b[0m\u001b[0m\n\u001b[1;32m    152\u001b[0m                     \u001b[0merr\u001b[0m \u001b[0;34m=\u001b[0m \u001b[0;34m\"Could not interpret input '{}'\"\u001b[0m\u001b[0;34m.\u001b[0m\u001b[0mformat\u001b[0m\u001b[0;34m(\u001b[0m\u001b[0mvar\u001b[0m\u001b[0;34m)\u001b[0m\u001b[0;34m\u001b[0m\u001b[0;34m\u001b[0m\u001b[0m\n\u001b[0;32m--> 153\u001b[0;31m                     \u001b[0;32mraise\u001b[0m \u001b[0mValueError\u001b[0m\u001b[0;34m(\u001b[0m\u001b[0merr\u001b[0m\u001b[0;34m)\u001b[0m\u001b[0;34m\u001b[0m\u001b[0;34m\u001b[0m\u001b[0m\n\u001b[0m\u001b[1;32m    154\u001b[0m \u001b[0;34m\u001b[0m\u001b[0m\n\u001b[1;32m    155\u001b[0m             \u001b[0;31m# Figure out the plotting orientation\u001b[0m\u001b[0;34m\u001b[0m\u001b[0;34m\u001b[0m\u001b[0;34m\u001b[0m\u001b[0m\n",
            "\u001b[0;31mValueError\u001b[0m: Could not interpret input 'Cuisines'"
          ]
        },
        {
          "output_type": "display_data",
          "data": {
            "text/plain": [
              "<Figure size 1440x720 with 0 Axes>"
            ]
          },
          "metadata": {}
        }
      ]
    },
    {
      "cell_type": "code",
      "source": [
        "numerical_features   = data.select_dtypes(include = [np.number]).columns\n",
        "categorical_features = data.select_dtypes(include= [np.object]).columns"
      ],
      "metadata": {
        "colab": {
          "base_uri": "https://localhost:8080/"
        },
        "id": "zuUnb5_x5MNL",
        "outputId": "9ce85604-7380-4fd8-9bdd-a01582784486"
      },
      "execution_count": 51,
      "outputs": [
        {
          "output_type": "stream",
          "name": "stderr",
          "text": [
            "/usr/local/lib/python3.7/dist-packages/ipykernel_launcher.py:2: DeprecationWarning: `np.object` is a deprecated alias for the builtin `object`. To silence this warning, use `object` by itself. Doing this will not modify any behavior and is safe. \n",
            "Deprecated in NumPy 1.20; for more details and guidance: https://numpy.org/devdocs/release/1.20.0-notes.html#deprecations\n",
            "  \n"
          ]
        }
      ]
    },
    {
      "cell_type": "code",
      "source": [
        "categorical_features"
      ],
      "metadata": {
        "colab": {
          "base_uri": "https://localhost:8080/"
        },
        "id": "zV7R31jd5Zbo",
        "outputId": "47426165-9bed-4951-fa37-2f37b413f37a"
      },
      "execution_count": 52,
      "outputs": [
        {
          "output_type": "execute_result",
          "data": {
            "text/plain": [
              "Index(['Restaurant', 'Order Online?', 'Reservation Needed?', 'City',\n",
              "       'Restaurant Type', 'Cuisines', 'Meal Type'],\n",
              "      dtype='object')"
            ]
          },
          "metadata": {},
          "execution_count": 52
        }
      ]
    },
    {
      "cell_type": "code",
      "execution_count": null,
      "metadata": {
        "id": "p5KtktoKETKQ"
      },
      "outputs": [],
      "source": [
        "#Creating binary vaiables for Booking\n",
        "data2 = pd.get_dummies(data)\n",
        "\n",
        "# Normalizing the data in the rings column beacuse the value is too high when compared to other independent variable\n",
        "from sklearn import preprocessing\n",
        "\n",
        "# Create x to store scaled values as floats\n",
        "x = data2[['Number of Votes']].values.astype(float)\n",
        "\n",
        "# Preparing for normalizing\n",
        "min_max_scaler = preprocessing.MinMaxScaler()\n",
        "\n",
        "# Transform the data to fit minmax processor\n",
        "x_scaled = min_max_scaler.fit_transform(x)\n",
        "\n",
        "# Run the normalizer on the dataframe\n",
        "data2[['Number of Votes']] = pd.DataFrame(x_scaled)\n",
        "\n",
        "# Create x to store scaled values as floats\n",
        "y = data2[['Cost (Rupees)']].values.astype(float)\n",
        "\n",
        "# Preparing for normalizing\n",
        "min_max_scaler = preprocessing.MinMaxScaler()\n",
        "\n",
        "# Transform the data to fit minmax processor\n",
        "y_scaled = min_max_scaler.fit_transform(y)\n",
        "\n",
        "# Run the normalizer on the dataframe\n",
        "data2[['Cost (Rupees)']] = pd.DataFrame(y_scaled)\n",
        "\n",
        "# Create x to store scaled values as floats\n",
        "z = data2[['Rating']].values.astype(float)\n",
        "\n",
        "# Preparing for normalizing\n",
        "min_max_scaler = preprocessing.MinMaxScaler()\n",
        "\n",
        "# Transform the data to fit minmax processor\n",
        "z_scaled = min_max_scaler.fit_transform(z)\n",
        "\n",
        "# Run the normalizer on the dataframe\n",
        "data2[['Rating']] = pd.DataFrame(z_scaled)\n"
      ]
    },
    {
      "cell_type": "code",
      "execution_count": null,
      "metadata": {
        "id": "UlXOqs4IETKR"
      },
      "outputs": [],
      "source": [
        "#data after nromalizing and feature creation\n",
        "data2.head()"
      ]
    },
    {
      "cell_type": "code",
      "execution_count": null,
      "metadata": {
        "id": "TD26PEshAvbR"
      },
      "outputs": [],
      "source": [
        "data2.corr()"
      ]
    },
    {
      "cell_type": "code",
      "source": [
        "plt.figure(figsize=(20,7))\n",
        "sns.heatmap(data2.corr(), annot=True, cmap='RdYlGn')"
      ],
      "metadata": {
        "id": "aLJ06zq-9QpP"
      },
      "execution_count": null,
      "outputs": []
    },
    {
      "cell_type": "code",
      "source": [
        "sns.pairplot(data2)"
      ],
      "metadata": {
        "id": "p5joslPQ9Voy"
      },
      "execution_count": null,
      "outputs": []
    },
    {
      "cell_type": "markdown",
      "metadata": {
        "id": "xJNSulE4BZqW"
      },
      "source": [
        "Now it is clear to visualize and interpret the data. Looking at the boxplot above, we can infer below:\n",
        "\n",
        "1. Height, whole weight, shucked weight, viscera weight has outliers meaning that few abalones survied and grew longer and heavier then expected\n",
        "2. Few values in independent variables are very small and close to zero which makes sense as the Infant (or younger abalones) will have very small physical attributes\n",
        "3. Sex have three categorical values - Male, Female and Infant and they are almost evenly distributed meaning almost same number of Male, Female and Infants\n",
        "4. Most of the Ring values are between 6 and 15 meaning most of the abalones are taken for eating when they are between 7.5 and 16.5 years of age (age = number of rings + 1.5 years)\n",
        "5. For other variables like height, length, diameter, whole weight (and other weigths) it looks like most of the values lies in between of the respective ranges of the variables, meaning most of the abalones grow untill 15 rings (abalone rings ranges from 1 to 29), this is same inference as observed in above point \n"
      ]
    },
    {
      "cell_type": "code",
      "execution_count": null,
      "metadata": {
        "id": "bWulchbZETKS"
      },
      "outputs": [],
      "source": [
        "#checking the correlation between all the features in the data\n",
        "data.corr()"
      ]
    },
    {
      "cell_type": "code",
      "execution_count": null,
      "metadata": {
        "id": "QgjB1jsYETKS"
      },
      "outputs": [],
      "source": [
        "#the heat map of the correlation\n",
        "plt.figure(figsize=(20,7))\n",
        "sns.heatmap(data.corr(), annot=True, cmap='RdYlGn')"
      ]
    },
    {
      "cell_type": "markdown",
      "metadata": {
        "id": "vAX8yUbVYOoV"
      },
      "source": [
        "We can see there are lot of co-relation among the variables. The co-relation between length and diameter being the highest, it may mean that essentially both are measuring or predicting same thing"
      ]
    },
    {
      "cell_type": "code",
      "execution_count": null,
      "metadata": {
        "id": "piDyVhbAGBOI"
      },
      "outputs": [],
      "source": [
        "#pair plot to check the colinearity\n",
        "sns.pairplot(data) "
      ]
    },
    {
      "cell_type": "markdown",
      "metadata": {
        "id": "UtHYryzxz0TV"
      },
      "source": [
        "Correlation matrix and heatmap shows that there is multicollinearity between the independent variables. Heighest correlation is between Length and diameter."
      ]
    },
    {
      "cell_type": "markdown",
      "metadata": {
        "id": "R2q4vnwkB3KY"
      },
      "source": [
        "# Identifing predictor significance"
      ]
    },
    {
      "cell_type": "code",
      "execution_count": null,
      "metadata": {
        "id": "o4dT2YccETKT"
      },
      "outputs": [],
      "source": [
        "#Using OLS for finding the p value to check the significant features\n",
        "import statsmodels.api as sm\n",
        "\n",
        "model = sm.OLS(data['Rings'], data[['Length', 'Diameter', 'Height', 'Whole weight', 'Shucked weight',\n",
        "       'Viscera weight', 'Shell weight','Sex_I', 'Sex_M', 'Sex_F']]).fit()\n",
        "\n",
        "# Print out the statistics\n",
        "model.summary()"
      ]
    },
    {
      "cell_type": "markdown",
      "metadata": {
        "id": "CRQaZi0CETKT"
      },
      "source": [
        "Considering the significance value of 0.05 because accuracy in predicting the age of the abalone is not that critical\n",
        "\n",
        "1. The **length** has the p-value 0.8, which is greater and hence it is a non significant feature.\n",
        "2. The **Diameter** has the p-value 0, which is lesser and hence it is a significant feature.\n",
        "3. The **Height** has the p-value 0, which is lesser and hence it is a significant feature.\n",
        "4. The **Whole weight** has the p-value 0, which is lesser and hence it is a significant feature.\n",
        "5. The **Shucked weight** has the p-value 0, which is lesser and hence it is a significant feature.\n",
        "6. The **Viscera weight** has the p-value 0, which is lesser and hence it is a significant feature.\n",
        "7. The **Shell weight** has the p-value 0, which is lesser and hence it is a significant feature.\n",
        "8. The **Sex_F** has the p-value 0, which is lesser and hence it is a significant feature.\n",
        "9. The **Sex_I** has the p-value 0, which is lesser and hence it is a significant feature.\n",
        "10. The **Sex_M** has the p-value 0, which is lesser and hence it is a significant feature.\n"
      ]
    },
    {
      "cell_type": "markdown",
      "metadata": {
        "id": "xCXt2D_CETKU"
      },
      "source": [
        "# Building the Model"
      ]
    },
    {
      "cell_type": "markdown",
      "metadata": {
        "id": "hnqaUdUCETKU"
      },
      "source": [
        "##Train ,Validation and Test split"
      ]
    },
    {
      "cell_type": "code",
      "execution_count": null,
      "metadata": {
        "id": "JjGRUa3bETKV"
      },
      "outputs": [],
      "source": [
        "from sklearn.model_selection import  train_test_split\n",
        "\n",
        "X = data[ ['Length', 'Diameter', 'Height', 'Whole weight', 'Shucked weight',\n",
        "       'Viscera weight', 'Shell weight', 'Sex_F', 'Sex_I', 'Sex_M']]\n",
        "\n",
        "y = data['Rings']\n",
        "\n",
        "#Spliting data into Training 76.5%, Validation set 13.5% and Test set 10%\n",
        "\n",
        "X_t, X_test, y_t, y_test = train_test_split(X, y, test_size=0.1, random_state=1)\n",
        "\n",
        "X_train, X_val, y_train, y_val = train_test_split(X_t, y_t, test_size=0.15, random_state=1)"
      ]
    },
    {
      "cell_type": "code",
      "execution_count": null,
      "metadata": {
        "id": "-oRPN5B47RLR"
      },
      "outputs": [],
      "source": [
        "# Looking the data for test, training and validation set\n",
        "X_test_plot = X_test[['Length', 'Diameter', 'Height', 'Whole weight', 'Shucked weight',\n",
        "       'Viscera weight', 'Shell weight','Sex_I', 'Sex_M', 'Sex_F']]\n",
        "\n",
        "X_val_plot = X_val[['Length', 'Diameter', 'Height', 'Whole weight', 'Shucked weight',\n",
        "       'Viscera weight', 'Shell weight','Sex_I', 'Sex_M', 'Sex_F']]\n",
        "\n",
        "X_train_plot = X_train[['Length', 'Diameter', 'Height', 'Whole weight', 'Shucked weight',\n",
        "       'Viscera weight', 'Shell weight','Sex_I', 'Sex_M', 'Sex_F']]\n",
        "\n",
        "# Plotting the data to see the histogram\n",
        "for c in X_test_plot.columns[:]:\n",
        "  plt.figure(figsize=(8,6))\n",
        "  plt.hist(X_val_plot[c], bins=20, alpha=0.5, label=\"validation\")\n",
        "  plt.hist(X_test_plot[c], bins=20, alpha=0.5, label=\"test\")\n",
        "  plt.hist(X_train_plot[c], bins=20, alpha=0.5, label=\"train\")\n",
        "  plt.xlabel(c, size=14)\n",
        "  plt.ylabel(\"Count\", size=14)\n",
        "  plt.legend(loc='upper right')\n",
        "  plt.title(\"{} distribution\".format(c))\n",
        "  plt.show()\n",
        " "
      ]
    },
    {
      "cell_type": "markdown",
      "metadata": {
        "id": "7b3cGMZ3LRw6"
      },
      "source": [
        "1. The division of dataset in Test, train and validation sets looks fine except few boundary values of Length', 'Diameter', 'Height', 'Whole weight', 'Shucked weight', 'Viscera weight', 'Shell weight' which appears to be missing in test and validation sets\n",
        "2. No missing values in 'Sex_I', 'Sex_M', 'Sex_F'"
      ]
    },
    {
      "cell_type": "markdown",
      "metadata": {
        "id": "fJQXgm9BETKV"
      },
      "source": [
        "## Linear Regression"
      ]
    },
    {
      "cell_type": "code",
      "execution_count": null,
      "metadata": {
        "id": "ly7OVDy0ETKV"
      },
      "outputs": [],
      "source": [
        "from sklearn.metrics import r2_score, mean_squared_error \n",
        "from sklearn.linear_model import LinearRegression\n",
        "from sklearn import datasets, linear_model"
      ]
    },
    {
      "cell_type": "code",
      "execution_count": null,
      "metadata": {
        "id": "Sl8zkdIIETKV"
      },
      "outputs": [],
      "source": [
        "# Create linear regression object\n",
        "regr = linear_model.LinearRegression()\n",
        "\n",
        "# Train the model using the training sets\n",
        "regr.fit(X_train,y_train)\n",
        "\n"
      ]
    },
    {
      "cell_type": "markdown",
      "metadata": {
        "id": "9oA86CuMCMiY"
      },
      "source": [
        "## Making predictions"
      ]
    },
    {
      "cell_type": "code",
      "execution_count": null,
      "metadata": {
        "id": "7iNyXE3-ETKW"
      },
      "outputs": [],
      "source": [
        "# Make predictions using the training set\n",
        "y_pred = regr.predict(X_train)\n",
        "# The mean squared error\n",
        "print('Mean squared error: %.2f'% mean_squared_error(y_train, y_pred))\n",
        "# The coefficient of determination: 1 is perfect prediction\n",
        "print('Coefficient of determination: %.2f'% r2_score(y_train, y_pred))\n",
        "r2 = r2_score(y_train,y_pred)\n",
        "print('R^2 score on tarining set =',r2)"
      ]
    },
    {
      "cell_type": "code",
      "execution_count": null,
      "metadata": {
        "id": "Og3yw2Y1ETKW"
      },
      "outputs": [],
      "source": [
        "# Make predictions using the testing set\n",
        "y_pred = regr.predict(X_test)\n",
        "# The mean squared error\n",
        "print('Mean squared error: %.2f'% mean_squared_error(y_test, y_pred))\n",
        "# The coefficient of determination: 1 is perfect prediction\n",
        "print('Coefficient of determination: %.2f'% r2_score(y_test, y_pred))\n",
        "r2 = r2_score(y_test,y_pred)\n",
        "print('R^2 score on test set =',r2)\n"
      ]
    },
    {
      "cell_type": "code",
      "execution_count": null,
      "metadata": {
        "id": "D6UMXuUrETKY",
        "scrolled": true
      },
      "outputs": [],
      "source": [
        "# Make predictions using the validation set\n",
        "y_pred = regr.predict(X_val)\n",
        "\n",
        "# The mean squared error\n",
        "print('Mean squared error: %.2f'% mean_squared_error(y_val, y_pred))\n",
        "# The coefficient of determination: 1 is perfect prediction\n",
        "print('Coefficient of determination: %.2f'% r2_score(y_val, y_pred))\n",
        "r2_val = r2_score(y_val,y_pred)\n",
        "print('R^2 score on validation set =',r2_val)\n",
        "\n"
      ]
    },
    {
      "cell_type": "markdown",
      "metadata": {
        "id": "QaTDwoJ2Chc2"
      },
      "source": [
        "## Understanding the important features"
      ]
    },
    {
      "cell_type": "code",
      "execution_count": null,
      "metadata": {
        "id": "5jv4U9sLETKX"
      },
      "outputs": [],
      "source": [
        "#Understanding the important features \n",
        "import eli5\n",
        "from eli5.sklearn import PermutationImportance\n",
        "perm = PermutationImportance(regr, random_state=1).fit(X_test, y_test)\n",
        "eli5.show_weights(perm, feature_names = X_test.columns.tolist())"
      ]
    },
    {
      "cell_type": "markdown",
      "metadata": {
        "id": "TLU9KwuQ0vrn"
      },
      "source": [
        "The permutaion importance is also aligned with the P values where length seems to be the lease significant value and rest are significant Sex_M, Sex_F and Sex_I being the top three significant features"
      ]
    },
    {
      "cell_type": "markdown",
      "metadata": {
        "id": "o_B9i5R7cwKB"
      },
      "source": [
        "#Answer the following questions \n",
        "\n",
        "* Which independent variables are useful to predict a target (dependent variable)?\n",
        "<br>A:\n",
        "Below is the rank of the dependent variables\n",
        "1. Sex_M\n",
        "2. Sex_F\n",
        "3. Sex_I\n",
        "4. Shucked Weight \n",
        "5. Whole weight\n",
        "6. Shell weight\n",
        "7. Diameter\n",
        "8. Viscera weight\n",
        "9. Height\n",
        "10. Length\n",
        "<br>\n",
        "* Which independent variables have missing data? How much?\n",
        "<br>A:\n",
        "No independent variables have any missing data or zeros.  \n",
        "\n",
        "* Do the training and test sets have the same data?\n",
        "<br>A:\n",
        "Yes, most of the data are same in test, train and validation data set except the data points in training set are more and few boundary values are not included in train and validation data set. \n",
        "\n",
        "* In the predictor variables independent of all the other predictor variables?\n",
        "<br>A:\n",
        "No, they are not independet of each other. There is multi - collinearity among lot of the independent variable which is shown by the correlation table and pairplot map\n",
        "\n",
        "* Which predictor variables are the most important?\n",
        "<br>A:\n",
        "1. Sex_M\n",
        "2. Sex_F\n",
        "3. Sex_I\n",
        "4. Shucked Weight \n",
        "5. Whole weight\n",
        "6. Shell weight\n",
        "7. Diameter\n",
        "8. Viscera weight\n",
        "9. Height\n",
        "\n",
        "* Do the ranges of the predictor variables make sense?\n",
        "<br>A:\n",
        "1. Height, whole weight, shucked weight, viscera weight has outliers meaning that few abalones survied and grew longer and heavier then expected\n",
        "2. Few values in independent variables are very small and close to zero which makes sense as the Infant (or younger abalones) will have very small physical attributes\n",
        "3. Sex have three categorical values - Male, Female and Infant and they are almost evenly distributed meaning almost same number of Male, Female and Infants\n",
        "4. Most of the Ring values are between 6 and 15 meaning most of the abalones are taken for eating when they are between 7.5 and 16.5 years of age (age = number of rings + 1.5 years)\n",
        "5. For other variables like height, length, diameter, whole weight (and other weigths) it looks like most of the values lies in between of the respective ranges of the variables, meaning most of the abalones grow untill 15 rings (abalone rings ranges from 1 to 29), this is same inference as observed in above point\n",
        "\n",
        "* What are the distributions of the predictor variables? \n",
        "<br>A:\n",
        "1. Looking at the Q-Q plots, it appears that all independednt variables are roughly following normal distribution\n",
        "2. Sex is categorical value and have 3 different values namely Male, Female and Infant"
      ]
    },
    {
      "cell_type": "markdown",
      "metadata": {
        "id": "rAwtWA-PETKb"
      },
      "source": [
        "# Conclusion\n",
        "\n",
        "From the analysis done above on the data set, it is clear that there is multicolinearity and ecxpet length all other dependent variables are significant.\n",
        "\n"
      ]
    },
    {
      "cell_type": "markdown",
      "metadata": {
        "id": "pJ8vDjH5ETKc"
      },
      "source": [
        "# Refernces\n",
        "\n",
        "1. Sckit learn offcial documentation\n",
        "2. Refered Towards Data Science\n",
        "3. Eli5 official documentation \n",
        "\n",
        "The algorithms were referred directly from the **Sckit learn official documentation**. Visualization was referred from the  Machine Learning with scikit-learn Quick Start Guide and **Towards Data Science** (How do you check the quality of your regression model in Python?).  The remaining code was written independently. Feature importance reference is taken from **eli5 offical documnetation** \n",
        "\n",
        "\n",
        "\n",
        "\n",
        "\n",
        "\n",
        "\n"
      ]
    },
    {
      "cell_type": "markdown",
      "metadata": {
        "id": "uG78OOazETKc"
      },
      "source": [
        "Copyright 2021 AI Skunks\n",
        "\n",
        "\n",
        "Permission is hereby granted, free of charge, to any person obtaining a copy of this software and associated documentation files (the \"Software\"), to deal in the Software without restriction, including without limitation the rights to use, copy, modify, merge, publish, distribute, sublicense, and/or sell copies of the Software, and to permit persons to whom the Software is furnished to do so, subject to the following conditions:\n",
        "\n",
        "The above copyright notice and this permission notice shall be included in all copies or substantial portions of the Software.\n",
        "\n",
        "THE SOFTWARE IS PROVIDED \"AS IS\", WITHOUT WARRANTY OF ANY KIND, EXPRESS OR IMPLIED, INCLUDING BUT NOT LIMITED TO THE WARRANTIES OF MERCHANTABILITY, FITNESS FOR A PARTICULAR PURPOSE AND NONINFRINGEMENT. IN NO EVENT SHALL THE AUTHORS OR COPYRIGHT HOLDERS BE LIABLE FOR ANY CLAIM, DAMAGES OR OTHER LIABILITY, WHETHER IN AN ACTION OF CONTRACT, TORT OR OTHERWISE, ARISING FROM, OUT OF OR IN CONNECTION WITH THE SOFTWARE OR THE USE OR OTHER DEALINGS IN THE SOFTWARE."
      ]
    }
  ],
  "metadata": {
    "colab": {
      "collapsed_sections": [
        "5-ECbPT3ETKC",
        "o_B9i5R7cwKB",
        "rAwtWA-PETKb"
      ],
      "provenance": [],
      "include_colab_link": true
    },
    "kernelspec": {
      "display_name": "Python 3 (ipykernel)",
      "language": "python",
      "name": "python3"
    },
    "language_info": {
      "codemirror_mode": {
        "name": "ipython",
        "version": 3
      },
      "file_extension": ".py",
      "mimetype": "text/x-python",
      "name": "python",
      "nbconvert_exporter": "python",
      "pygments_lexer": "ipython3",
      "version": "3.8.5"
    }
  },
  "nbformat": 4,
  "nbformat_minor": 0
}